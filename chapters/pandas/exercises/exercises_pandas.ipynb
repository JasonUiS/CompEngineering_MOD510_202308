{
 "cells": [
  {
   "cell_type": "markdown",
   "id": "f2dfaaf9",
   "metadata": {
    "editable": true
   },
   "source": [
    "<!-- dom:TITLE: Pandas gym -->\n",
    "# Pandas gym\n",
    "**Prepared as part of MOD510 Computational Engineering and Modeling**\n",
    "\n",
    "Date: **Aug 19, 2022**\n",
    "\n",
    "**Learning objectives:**\n",
    "\n",
    "1. number one\n",
    "\n",
    "2. number two\n",
    "\n",
    "# Exercise 1 Create a data frame\n",
    "In the folder `data` there is a file named `field_production_monthly.csv`.\n",
    "\n",
    "1. Read this file into a Pandas DataFrame\n",
    "\n",
    "2. Make a function that take as input a name of a file, and returns an error message if it fails to open it\n",
    "\n",
    "# Exercise 2 Extract data for Snorre\n",
    "The file `field_production_gross_monthly.csv` contains production data from the Norwegian Petroleum Directorate [factpages](https://factpages.npd.no/).\n",
    "\n",
    "1. Extract a DataFrame for the Snorre field\n",
    "\n",
    "2. Plot the production of oil equivalents as a function of time\n",
    "\n",
    "  * Use Matplotlib, and\n",
    "\n",
    "  * the built in plotting functionality of Pandas\n",
    "\n",
    "\n",
    "3. Compare your plot with the one on the [factpages](https://factpages.npd.no/en/field/PageView/All/43718). Use the [`pd.groupby()`](https://pandas.pydata.org/docs/reference/api/pandas.DataFrame.groupby.html) function to make a new data frame that contains the production per year and see if you can reproduce [figure 1](#fig:snorre) from the factpages.\n",
    "\n",
    "<!-- dom:FIGURE: [fig-pandas/snorre.png, width=400 frac=1.0] Yearly production from the Snorre field. <div id=\"fig:snorre\"></div> -->\n",
    "<!-- begin figure -->\n",
    "<div id=\"fig:snorre\"></div>\n",
    "\n",
    "<img src=\"fig-pandas/snorre.png\" width=400><p style=\"font-size: 0.9em\"><i>Figure 1: Yearly production from the Snorre field.</i></p>\n",
    "<!-- end figure -->\n",
    "\n",
    "# Exercise 3 Extract data for any field\n",
    "Now we want to write some functions that are more general, which can extract information from any field.\n",
    "1. Make a general function that can extract a DataFrame given any name of a field in the database. If you want to be fancy you could also make the function case insensitive. The function should write a reasonable error message if something went wrong\n",
    "\n",
    "2. Write a function that takes as argument a DataFrame for a given field and makes a plot of the monthly production of oil equivalents. Give the plot a reasonable title and axes labels\n",
    "\n",
    "3. Boolean indexing - Using a single column’s values to select data"
   ]
  },
  {
   "cell_type": "code",
   "execution_count": 1,
   "id": "e4dad7e4",
   "metadata": {
    "collapsed": false,
    "editable": true
   },
   "outputs": [],
   "source": [
    "df[df[\"A\"] > 0]"
   ]
  },
  {
   "cell_type": "markdown",
   "id": "feea26aa",
   "metadata": {
    "editable": true
   },
   "source": [
    "1. Selecting values from a DataFrame where a boolean condition is met"
   ]
  },
  {
   "cell_type": "code",
   "execution_count": 2,
   "id": "5c7f95e4",
   "metadata": {
    "collapsed": false,
    "editable": true
   },
   "outputs": [],
   "source": [
    "df[df > 0]"
   ]
  },
  {
   "cell_type": "markdown",
   "id": "83a5f59c",
   "metadata": {
    "editable": true
   },
   "source": [
    "1. Using the `isin()` method for filtering:\n",
    "\n",
    "`df2[\"E\"] = [\"one\", \"one\", \"two\", \"three\", \"four\", \"three\"]`\n",
    "`df2[df2[\"E\"].isin([\"two\", \"four\"])]`\n",
    "\n",
    "1. Grouping\n",
    "\n",
    "By “group by” we are referring to a process involving one or more of the following steps:\n",
    "\n",
    "1. Splitting the data into groups based on some criteria\n",
    "\n",
    "2. Applying a function to each group independently\n",
    "\n",
    "3. Combining the results into a data structure"
   ]
  }
 ],
 "metadata": {},
 "nbformat": 4,
 "nbformat_minor": 5
}
