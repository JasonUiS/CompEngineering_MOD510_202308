{
 "cells": [
  {
   "cell_type": "markdown",
   "metadata": {
    "editable": true
   },
   "source": [
    "This book is a work in progress. It started out as a traditional book on numerical methods and numerical analyses, but I am currently working on bringing the modeling aspects more into focus.\n",
    "\n",
    "The book is divided into chapters where I cover numerical methods. A numerical algorithm is a set of instructions executed in a specific order to find the solution to a mathematical or a physical problem. In each chapter I try to explain and derive many of the standard numerical methods from first principles in a way that require little mathematical knowledge. It is important to understand the origin of numerical algorithms, because a numerical algorithm will only in a special case solve the underlying mathematical problem exact. We usually compare a computer generated solution of a model to data, you need to be able to tell if the mismatch is due to numerical errors introduced by the specific algorithm used or missing physical effects in the original mathematical model. Sometimes the numerical algorithm is unstable, i.e. it converges to the wrong solution, thus you need to understand the limitations of the algorithm. Another motivation to learn about numerical algorithms, is that they are *not that difficult* to implement, they usually follow a very similar pattern, but there are some ''tricks''. It is extremely useful to learn these tricks, it will put you into a position where you can combine different methods and optimize them for your specific problem.\n",
    "\n",
    "In the course I teach, the theory is combined with modeling projects. I am currently working on making the modeling part more explicit in this book. Modeling is an art, and there are many models that can be used to model a phenomena. In my experience, people use models that are too complicated compared to what they want to model. By complicated, I mean models that require a lot (sometimes too much) information about a system compared to the actual measuring data available. I believe that simplified models should be used in an exploratory manner to understand a certain phenomena, before applying more complicated models. What many people realize is that a simple model that does not match data, can in many cases be more valuable than a complicated model that match data. If a simple model does not match data, it means that we have ignored important effect(s). This in turn mean that the effects or the physic we thought where important might not be the most important effects after all, we have actually learned that our understanding is incomplete and we should search for the missing effects (or take another look at the quality of the data). The key point is that we should always ask ourselves ''What have we learned?''.\n",
    "\n",
    "However, it is not easy to learn modeling and it is even harder if one use models developed by other people. The only way to learn it is to do it yourself, test out different mathematical models of a phenomena, and compare to data. In this process you will also be able to understand the strength and limitations of models, or to use the famous quote by G. E. Box ''All models are wrong, but some are useful''.\n",
    "\n",
    "Modeling can be broken down into several parts \n",
    "1. Identify important physical phenomena. This involves abstraction, formulate they key physical mechanisms as mathematical equations. In this process it is important to interact with people that have domain knowledge.\n",
    "\n",
    "2. Implement model, solve it and validate against known analytical solutions. Analytical solutions exists when one simplify the system\n",
    "\n",
    "3. Calibrate model parameters against data. A simple model would have much less parameters than a complicated model, hence it is much harder to match data. After this step one usually need to identify effects missing or remove effects that might not be important.\n",
    "\n",
    "*Aksel Hiorth, September 2022"
   ]
  }
 ],
 "metadata": {},
 "nbformat": 4,
 "nbformat_minor": 4
}
