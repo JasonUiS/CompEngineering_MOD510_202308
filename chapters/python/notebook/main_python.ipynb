{
 "cells": [
  {
   "cell_type": "markdown",
   "id": "a26aa4e3",
   "metadata": {
    "editable": true
   },
   "source": [
    "<!-- dom:TITLE: Introduction to Python  -->\n",
    "# Introduction to Python \n",
    "**Aksel Hiorth**\n",
    "University of Stavanger\n",
    "\n",
    "Date: **Aug 19, 2022**\n",
    "\n",
    "There are plenty of online resources if you want get an overview of Python syntax, here I will only mention one [[vanderplas2016whirlwind]](#vanderplas2016whirlwind), for which the full book is available on [github](https://github.com/jakevdp/WhirlwindTourOfPython).\n",
    "\n",
    "Here will try to cover both some key syntax, and some aspects of how to write (good) Python code. As you might have discovered tasks can be solved in many different ways in Python. This is clearly a strength because you would most likely be able to solve any task thrown at you. On the other hand it is a weakness, because code can get messy and hard to follow, especially if you solve the same task in different part of your code using different libraries or syntax.\n",
    "\n",
    "In this chapter I will explain how I tend to solve some common tasks, in this process we will also cover some stuff that you should know. If you need more information on each topic below, there are plenty of online sources. \n",
    "\n",
    "The code examples are meant as an inspiration, and maybe you do not agree and have solutions that you think are much better. If that is the case I would love to know, and I can update this chapter.\n",
    "\n",
    "**Speed and readability.**\n",
    "\n",
    "Many people are concerned about speed or execution time. My advice is to focus on readable code, and get the job done. When the code is working it is very easy to go back and change out parts that are slow. Remember that you should test the code on big problems, sometimes the advantage of Numpy or Scipy is not seen before the system is large. You can use the magic commands `%timeit` to check performance of different functions. There is also the option of using [Numba](https://numba.pydata.org/), which translate python code into optimized machine code.\n",
    "\n",
    "\n",
    "\n",
    "# Personal Guidelines\n",
    "It is important to have a some guidelines when coding, and for Python there are clear style guides [PEP 8](https://www.python.org/dev/peps/pep-0008/). Take a look at the official guidelines, and  make some specific rules for yourself, and stick to them. The reason for this is that if you make a large code, people will recognize your style and it is easier to understand the code. If you are working in team, it is even more important - try to agree on some basic rules, e.g.\n",
    "\n",
    "**Code Guidelines:**\n",
    "* Variable names should be meaningful\n",
    "\n",
    "* Naming of variables and functions, should you write `def my_fynction(...):` or `def MyFunction(..)`, i.e are words separated by underscore or capital letter. Personally I use capital letters for class definition, and underscore for function definitions.\n",
    "\n",
    "* (Almost) always use doc string, you would be amazed how easy it is to forget what a function does. Shorter (private) functions usually do not need comments or doc strings, if you use good variable names - it should then be easy to understand what is happening by just looking at the code.\n",
    "\n",
    "* Inline comments should be used sparingly, only where strictly necessary.\n",
    "\n",
    "* Strive to make code general, in particular not type specific, e.g. in Python it is easy to make functions that will work if a list (array) or a single value is passed.\n",
    "\n",
    "* Use exception handling, in particular for larger projects.\n",
    "\n",
    "* DRY - Do not Repeat Yourself [[thomas2019pragmatic]](#thomas2019pragmatic). If you need to change the code more than one place to extend it, you will forget to change everywhere and introduce bugs.\n",
    "\n",
    "* The DRY principle also applies to *knowledge sharing*, it is not only about copy and paste line of code, but knowledge should only be represented in one place. \n",
    "\n",
    "* Import libraries using the syntax `import library as ..`, Numpy would typically be `import numpy as np`. The syntax `from numpy import *` could lead to conflicts between modules as functions could have the same name in two different modules.\n",
    "\n",
    "**Work Guidelines:**\n",
    "* Do not copy and paste code without understanding it. It is OK to be inspired of others, but in some cases the code example are unnecessary complicated, but perhaps more important you will get a code with a mix of different styles.\n",
    "\n",
    "* Stick to a limited number of libraries, I try to do as much as possible with [Numpy](https://numpy.org/), [Pandas](https://pandas.pydata.org/), and  [Matplotlib](https://matplotlib.org/).\n",
    "\n",
    "* Unexpected behavior of functions, functions should be able to discover if something are wrong with arguments, and give warnings.\n",
    "\n",
    "## Code editor\n",
    "You would like to use an editor that gives you some help. It is particularly useful when you do not remember a variable or function name, you can guess at the name and a drop down list will appear which will let you pick the name or function you want. If you enter  a function name, the editor will write some useful information about the function, some screenshots are shown in [figure 1](#fig:py:vscode).\n",
    "\n",
    "<!-- dom:FIGURE: [fig-python/vscode.png, width=400 frac=1.0] A screenshot of vscode (left) the editor helps to identify which variable name you mean, (right) the editor show relevant of the function you would like to call. <div id=\"fig:py:vscode\"></div> -->\n",
    "<!-- begin figure -->\n",
    "<div id=\"fig:py:vscode\"></div>\n",
    "\n",
    "<img src=\"fig-python/vscode.png\" width=400><p style=\"font-size: 0.9em\"><i>Figure 1: A screenshot of vscode (left) the editor helps to identify which variable name you mean, (right) the editor show relevant of the function you would like to call.</i></p>\n",
    "<!-- end figure -->\n",
    "\n",
    "Currently my favorite editor is [vscode](https://code.visualstudio.com/), it can be used for any language, and there are a lot of add ins that can be installed to make the coding experience more pleasant. Spyder is also a very good alternative, but this editor is mainly for Python. It takes some time to learn how an editor work, so it is good if it can be used for multiple purposes.  However, always be open to new ideas and products, it will only make you more efficient. As an example, in some cases you will have a particular difficult error in the code, and then it could help to open and run that code in a different editor, you might get a slightly different error messages, which could help you locate the error.\n",
    "\n",
    "# Types in Python\n",
    "In Python you do not need to define types as in a compiled language. In many ways one can say that Python only has *one* type.  To not define types is generally and advantage as it lets you write code with fewer lines, and it is easier to write functions that will work with any kind of type. As an example in the programming language C, if you want to write a function that lets you add two numbers, you have to write one version if the arguments are integers and one version if the arguments are floats.\n",
    "\n",
    "The way that Python store and organize data is called a data model, and it is very well described in the [official documentation](https://docs.python.org/3/reference/datamodel.html). The important point is that all data in Python is an object or a relation between objects. The `is` operator can be used to check if two objects have the same identity, that means they are the same object. The `id` operator gives an unique integer value for the object and if two objects has the same number they are the same object, e.g."
   ]
  },
  {
   "cell_type": "code",
   "execution_count": 1,
   "id": "612ff20a",
   "metadata": {
    "collapsed": false,
    "editable": true
   },
   "outputs": [],
   "source": [
    "x=10\n",
    "x=y\n",
    "x is y # gives true\n",
    "print(id(x))\n",
    "print(id(y)) # prints the same integer as id(x)"
   ]
  },
  {
   "cell_type": "markdown",
   "id": "a47e72ca",
   "metadata": {
    "editable": true
   },
   "source": [
    "For those familiar with C or C++, one would first have to define `x` and `y` as the type `int` and then they would already have a different place in memory and they can *never* be the same (even if they can contain the same number). We will return to this point in more details when we discuss lists and arrays in Python, as it can lead to unexpected behavior.\n",
    "\n",
    "Another thing you might have experienced during Python coding is that you get error messages that refer to pieces of code that you have no knowledge of. This can happen when you pass in the wrong type (e.g. a string instead of a number). Since Python only has one type, the wrong type will not be discovered before it is actually used. This place could be deep into some other library that you have no knowledge of. \n",
    "\n",
    "## Basic types\n",
    "I will assume that you are familiar with the common types like floats (for real numbers), strings (text, lines, word, a character), integer (whole numbers), Boolean (True, False). What is sometimes useful is to be able to test what kind of type a variable is, this can be done with `type()`"
   ]
  },
  {
   "cell_type": "code",
   "execution_count": 2,
   "id": "914d5101",
   "metadata": {
    "collapsed": false,
    "editable": true
   },
   "outputs": [],
   "source": [
    "my_float = 2.0 \n",
    "my_int   = 3\n",
    "my_bool  = True\n",
    "print(type(my_float))\n",
    "print(type(my_int))\n",
    "print(type(my_bool))"
   ]
  },
  {
   "cell_type": "markdown",
   "id": "b15abbe7",
   "metadata": {
    "editable": true
   },
   "source": [
    "The output of the code above will be `float, int, bool`. If you want to test the value of a variable you can do"
   ]
  },
  {
   "cell_type": "code",
   "execution_count": 3,
   "id": "44aae3c1",
   "metadata": {
    "collapsed": false,
    "editable": true
   },
   "outputs": [],
   "source": [
    "if isinstance(my_int,int):\n",
    "    print('My variable is integer')\n",
    "else:\n",
    "    print('My variable is not integer')"
   ]
  },
  {
   "cell_type": "markdown",
   "id": "06880c2e",
   "metadata": {
    "editable": true
   },
   "source": [
    "Python also has build in support for complex number, they are written `1+2j`, `j` is used as the complex number. Note there is no multiplication sign between the number 2 and `j`.\n",
    "\n",
    "## Lists\n",
    "\n",
    " Lists are extremely useful, and they have some very nice syntax that in my mind is more elegant than Numpy arrays. Whenever you want to do more than one thing with only a slight change between the elements, you should think of lists. Lists are defined using the square bracket `[]` symbols"
   ]
  },
  {
   "cell_type": "code",
   "execution_count": 4,
   "id": "bc1367aa",
   "metadata": {
    "collapsed": false,
    "editable": true
   },
   "outputs": [],
   "source": [
    "my_list = []      # an empty list\n",
    "my_list = []*10   # still an empty list ...\n",
    "my_list = [0]*10  # a list with 10 zeros\n",
    "my_list = ['one', 'two','three'] # a list of strings\n",
    "my_list = ['one']*10 # a list with 10 equal string elements"
   ]
  },
  {
   "cell_type": "markdown",
   "id": "33b660d0",
   "metadata": {
    "editable": true
   },
   "source": [
    "**Notice.**\n",
    "\n",
    "To get the first element in a list, we do e.g. `my_list[0]`. In a list with 10 elements the last element would be `my_list[9]`, the length of a list can be found by using the `len()` function, i.e. `len(my_list)=10`. Thus, the last element can also be found by doing `my_list[len(my_list)-1]`. However, in Python you can always get the last element by doing `my_list[-1]`, the second last element would be `my_list[-2]` and so on.\n",
    "\n",
    "\n",
    "Sometimes you do not want to initialize the list with everything equal, and it can be tiresome to write everything out yourself. If that is the case you can use *list comprehension*"
   ]
  },
  {
   "cell_type": "code",
   "execution_count": 5,
   "id": "103ecb51",
   "metadata": {
    "collapsed": false,
    "editable": true
   },
   "outputs": [],
   "source": [
    "my_list = [i for i in range(10)] # a list from 0,1,..,9\n",
    "my_list = [i**3 for i in range(10)] # a list with elements 0,1,8, ..,729"
   ]
  },
  {
   "cell_type": "markdown",
   "id": "4c4e33e2",
   "metadata": {
    "editable": true
   },
   "source": [
    "We will cover for loop below, but basically what is done is that the statement `i in range(10)`, gives `i` the value 0, 1, $\\ldots$, 9 and the first `i` inside the list tells python to use that value as the element in the list. Using this syntax, there are plenty of opportunities to initialize. Maybe you want to pick from a list words that contain a particular subset of characters"
   ]
  },
  {
   "cell_type": "code",
   "execution_count": 6,
   "id": "02d89b1e",
   "metadata": {
    "collapsed": false,
    "editable": true
   },
   "outputs": [],
   "source": [
    "my_list  = ['hammer', 'nail','saw','lipstick','shirt']\n",
    "new_list = [i for i in my_list if 'a' in i]"
   ]
  },
  {
   "cell_type": "markdown",
   "id": "99b7c92e",
   "metadata": {
    "editable": true
   },
   "source": [
    "Now `new_list=['hammer', 'nail', 'saw']`.\n",
    "\n",
    "### List arithmetic\n",
    "\n",
    "I showed you some examples above, where we used multiplication to create a list with equal copies of a single element, you can also join two lists by using addition"
   ]
  },
  {
   "cell_type": "code",
   "execution_count": 7,
   "id": "cfdd9052",
   "metadata": {
    "collapsed": false,
    "editable": true
   },
   "outputs": [],
   "source": [
    "my_list  = ['hammer','saw']\n",
    "my_list2 = ['screw','nail','glue']\n",
    "new_list = my_list + my_list2"
   ]
  },
  {
   "cell_type": "markdown",
   "id": "a4d1ede7",
   "metadata": {
    "editable": true
   },
   "source": [
    "Now `new_list=['hammer', 'saw', 'screw', 'nail', 'glue']`, we can also multiply the list with an integer and get a larger list with several copies of the original list.\n",
    "\n",
    "### List slicing\n",
    "\n",
    "Clearly we can access elements in a list by using the index to the element, i.e. first element is `my_list[0]`, and the last element is `my_list[-1]`. Python also has very nice syntax to pick out a subset of a list. The syntax is `my_list[start:stop:step]`, the step makes it possible to skip elements"
   ]
  },
  {
   "cell_type": "code",
   "execution_count": 8,
   "id": "078e7a5c",
   "metadata": {
    "collapsed": false,
    "editable": true
   },
   "outputs": [],
   "source": [
    "my_list=['hammer', 'saw', 'screw', 'nail', 'glue']\n",
    "my_list[:]      # ['hammer', 'saw', 'screw', 'nail', 'glue']\n",
    "my_list[1:]     # ['saw', 'screw', 'nail', 'glue']\n",
    "my_list[:-1]    # ['hammer', 'saw', 'screw', 'nail']\n",
    "my_list[1:-1]   # ['saw', 'screw', 'nail']\n",
    "my_list[1:-1:2] # ['saw','nail']\n",
    "my_list[::1]    # ['hammer', 'saw', 'screw', 'nail', 'glue']\n",
    "my_list[::2]    # ['hammer', 'screw', 'glue']"
   ]
  },
  {
   "cell_type": "markdown",
   "id": "15fc2617",
   "metadata": {
    "editable": true
   },
   "source": [
    "Sometimes you have lists of lists, if you want to get e.g. the first element of each list you cannot access those elements using list slicing, you have to use a for loop or list comprehension"
   ]
  },
  {
   "cell_type": "code",
   "execution_count": 9,
   "id": "6d3f2534",
   "metadata": {
    "collapsed": false,
    "editable": true
   },
   "outputs": [],
   "source": [
    "my_list  = ['hammer','saw']\n",
    "my_list2 = ['screw','nail','glue']\n",
    "new_list=[my_list,my_list2]\n",
    "# extract the first element of each list\n",
    "new_list2 = [ list[0] for list in new_list]"
   ]
  },
  {
   "cell_type": "markdown",
   "id": "88974cb7",
   "metadata": {
    "editable": true
   },
   "source": [
    "`new_list2=['hammer','screw']`\n",
    "\n",
    "**When to use lists.**\n",
    "\n",
    "Use lists if you have mixed types, and as storage containers. Be careful when you do numerical computation to mix lists and Numpy arrays, adding two lists e.g. `[1,2]+[1,1]`, will give you `[1,2,1,1]`, whereas adding two Numpy arrays will give you `[2,3]`.\n",
    "\n",
    "\n",
    "\n",
    "## Numpy arrays\n",
    "Numpy arrays are awesome, and should be your preferred choice when doing numerical operations. We import Numpy as `import numpy as np`, some examples of initialization"
   ]
  },
  {
   "cell_type": "code",
   "execution_count": 10,
   "id": "10f3fdd5",
   "metadata": {
    "collapsed": false,
    "editable": true
   },
   "outputs": [],
   "source": [
    "my_array=np.array([0,1,2,3]) # initialized from list\n",
    "my_array=np.zeros(10) # array with 10 elements equal to zero\n",
    "my_array=np.ones(10)  # array with 10 elements equal to one"
   ]
  },
  {
   "cell_type": "markdown",
   "id": "14117970",
   "metadata": {
    "editable": true
   },
   "source": [
    "A typical use of Numpy arrays is when you want to create equal spaced numbers to evaluate a function, this can be done in (at least) two ways"
   ]
  },
  {
   "cell_type": "code",
   "execution_count": 11,
   "id": "9a0dbb92",
   "metadata": {
    "collapsed": false,
    "editable": true
   },
   "outputs": [],
   "source": [
    "my_array=np.arange(0,1,0.2) # [0, 0.2, 0.4, 0.6, 0.8]\n",
    "my_array=np.linspace(0,1,5) # [0., 0.25, 0.5, 0.75, 1.]"
   ]
  },
  {
   "cell_type": "markdown",
   "id": "9c0bce60",
   "metadata": {
    "editable": true
   },
   "source": [
    "Note that in the last case, the edges of the domain (0,1) are included, and is probably the outcome you want in most cases.\n",
    "\n",
    "**Do not mix Numpy arrays and lists in functions.**\n",
    "\n",
    "If a function is written to use  Numpy arrays as *arguments*, make sure that it *returns* Numpy arrays. If you have to use a list inside the function to e.g. store the results of a calculation, convert the list to a Numpy array before returning it by `np.array(my_list)`.\n",
    "\n",
    "\n",
    "\n",
    "### Array slicing\n",
    "\n",
    "As with lists you can access elements in Numpy arrays in the same way as lists, the syntax is `my_array[start,stop,step]`"
   ]
  },
  {
   "cell_type": "code",
   "execution_count": 12,
   "id": "98c66049",
   "metadata": {
    "collapsed": false,
    "editable": true
   },
   "outputs": [],
   "source": [
    "my_array=np.arange(0,6,1)\n",
    "my_array[:]      # [0,1,2,3,4,5]\n",
    "my_array[1:]     # [1,2,3,4,5]\n",
    "my_array[:-1]    # [0,1,2,3,4]\n",
    "my_array[1:-1]   # [1,2,3,4]\n",
    "my_array[1:-1:2] # [1,3]\n",
    "my_array[::2]    # [0,2,4]"
   ]
  },
  {
   "cell_type": "markdown",
   "id": "e0e5d576",
   "metadata": {
    "editable": true
   },
   "source": [
    "However, as opposed to lists all the basic mathematical operations addition, subtraction, multiplication are meaningful (*if the arrays have equal length, or shape*)"
   ]
  },
  {
   "cell_type": "markdown",
   "id": "e8235b0c",
   "metadata": {
    "editable": true
   },
   "source": [
    "        my_array  = np.array([0,1,2])\n",
    "        my_array2 = np.array([3,4,5])\n",
    "        my_array+my_array2 # [3,5,7]\n",
    "        my_array*my_array2 # [0,4,10]\n",
    "        my_array/my_array2 # [0,.25,.4]\n"
   ]
  },
  {
   "cell_type": "markdown",
   "id": "64e12262",
   "metadata": {
    "editable": true
   },
   "source": [
    "Note that the operations does what you would expect them to do. If we have arrays of arrays, we can easily access elements in the arrays"
   ]
  },
  {
   "cell_type": "markdown",
   "id": "3c6e613c",
   "metadata": {
    "editable": true
   },
   "source": [
    "        my_array  = np.array([[0,1,2],[3,4,5]])\n",
    "        my_array[0,:] # [0,1,2]\n",
    "        my_array[1,:] # [3,4,5]\n",
    "        my_array[:,0] # [0,3]\n",
    "        my_array[:,1] # [1,4]\n"
   ]
  },
  {
   "cell_type": "markdown",
   "id": "9d17f7b3",
   "metadata": {
    "editable": true
   },
   "source": [
    "Not the extra `[]` in the definition of `my_array`.  Numpy arrays have a shape property, which makes it very easy to create different matrices. The array `[0,1,2,3,4,5]` has shape (6,), but we can change the shape to create e.g. a $2\\times3$ matrix"
   ]
  },
  {
   "cell_type": "code",
   "execution_count": 13,
   "id": "2169756a",
   "metadata": {
    "collapsed": false,
    "editable": true
   },
   "outputs": [],
   "source": [
    "my_array  = np.array([0,1,2,3,4,5])\n",
    "my_array.shape = (2,3) # [[0,1,2],[3,4,5]]\n",
    "my_array.shape = (3,2) # [[0,1],[2,3],[4,5]]"
   ]
  },
  {
   "cell_type": "markdown",
   "id": "2afa6be2",
   "metadata": {
    "editable": true
   },
   "source": [
    "## Dictionaries\n",
    "If you have not used dictionaries before they might feel unnecessary, but if you get used to them and the syntax, they can make your code much more flexible and easier to expand. You should use dictionaries, when you have data that you want to access data sets fast. A very good mental image to have is an excel sheet where data are organized in columns. Each column has a header name, or a *key*. Assume we have the following table\n",
    "\n",
    "<table class=\"table\" border=\"1\">\n",
    "<thead>\n",
    "<tr><th align=\"center\"> A </th> <th align=\"center\"> B </th> <th align=\"center\"> C </th> </tr>\n",
    "</thead>\n",
    "<tbody>\n",
    "<tr><td align=\"center\">   1.0    </td> <td align=\"center\">   2.0    </td> <td align=\"center\">   3.0    </td> </tr>\n",
    "<tr><td align=\"center\">   4.0    </td> <td align=\"center\">   5.0    </td> <td align=\"center\">          </td> </tr>\n",
    "<tr><td align=\"center\">   6.0    </td> <td align=\"center\">   7.0    </td> <td align=\"center\">          </td> </tr>\n",
    "</tbody>\n",
    "</table>\n",
    "\n",
    "This could be represented as a dictionary as"
   ]
  },
  {
   "cell_type": "code",
   "execution_count": 14,
   "id": "c458cf63",
   "metadata": {
    "collapsed": false,
    "editable": true
   },
   "outputs": [],
   "source": [
    "my_dict={'A':[1.0,4.0,6.0],'B':[2.0,5.0,7.0],'C':[3.0]}"
   ]
  },
  {
   "cell_type": "markdown",
   "id": "cf33b959",
   "metadata": {
    "editable": true
   },
   "source": [
    "The syntax is `{key1:values, key2:values2, ...}`. We access the values in the dictionary by the key i.e. `print(my_dict['A'])` would print `[1.0,4.0,6.0]`. If you want to print out all the elements in a dictionary, you can use a for loop (see next section for more details)"
   ]
  },
  {
   "cell_type": "code",
   "execution_count": 15,
   "id": "54121b0a",
   "metadata": {
    "collapsed": false,
    "editable": true
   },
   "outputs": [],
   "source": [
    "for key in my_dict:\n",
    "    print(key, my_dict[key])"
   ]
  },
  {
   "cell_type": "markdown",
   "id": "9c5aa81b",
   "metadata": {
    "editable": true
   },
   "source": [
    "# Looping\n",
    "There are basically two ways of iterating through lists or to do a series of computations, using a for-loop or a while-loop. During a numerical computation we typically iterate through time, from time zero to the end time to calculate e.g. the position of an object.\n",
    "\n",
    "## For loops\n",
    "A typical example of a for loop is to loop over a list and do something, and maybe during the execution we would like to store the results in a list"
   ]
  },
  {
   "cell_type": "code",
   "execution_count": 16,
   "id": "9b97d437",
   "metadata": {
    "collapsed": false,
    "editable": true
   },
   "outputs": [],
   "source": [
    "numbers=['one','two','three','one','two']\n",
    "result=[] # has to be declared as empty\n",
    "for number in numbers:\n",
    "    if number == 'one':\n",
    "       result.append(1)"
   ]
  },
  {
   "cell_type": "markdown",
   "id": "6ea5b1a1",
   "metadata": {
    "editable": true
   },
   "source": [
    "After executing this code `result=[1, 1]`. The `number` variable changes during the iteration, and takes the value of each element in the list. Note that I use `numbers` for the list and `number` as the iterator, this makes it quite easy to read and understand the code. In many cases you want to have the index, not only the element in the list"
   ]
  },
  {
   "cell_type": "code",
   "execution_count": 17,
   "id": "1654aca6",
   "metadata": {
    "collapsed": false,
    "editable": true
   },
   "outputs": [],
   "source": [
    "numbers  = ['one','two','three','one','two']\n",
    "numerics = [  1  ,  2  ,   3   , 1   , 2   ]\n",
    "result=[] # has to be declared as empty\n",
    "for idx,number in enumerate(numbers):\n",
    "    if number == 'one':\n",
    "       result.append(numerics[idx])"
   ]
  },
  {
   "cell_type": "markdown",
   "id": "12842985",
   "metadata": {
    "editable": true
   },
   "source": [
    "After executing this code `result=[1, 1]`. In this case the function `enumerate(numbers)` returns two values: the index, which is stored in `idx`, and the value of the list element, which is stored in `number`.\n",
    "\n",
    "A more elegant way to achieve the same results without using the `enumerate()` function is to use `zip`"
   ]
  },
  {
   "cell_type": "code",
   "execution_count": 18,
   "id": "718da859",
   "metadata": {
    "collapsed": false,
    "editable": true
   },
   "outputs": [],
   "source": [
    "numbers  = ['one','two','three','one','two']\n",
    "numerics = [  1  ,  2  ,   3   , 1   , 2   ]\n",
    "result=[] # has to be declared as empty\n",
    "for numeric,number in zip(numerics,numbers):\n",
    "    if number == 'one':\n",
    "       result.append(numeric)"
   ]
  },
  {
   "cell_type": "markdown",
   "id": "830a1b91",
   "metadata": {
    "editable": true
   },
   "source": [
    "The `zip` function can also be used with several lists of same length.\n",
    "\n",
    "In many cases you might be in a situation that you want to plot more than one function in a plot. It is then very tempting to copy and paste the previous code, but it is more elegant to use a for loop and lists"
   ]
  },
  {
   "cell_type": "code",
   "execution_count": 19,
   "id": "d2f3a57f",
   "metadata": {
    "collapsed": false,
    "editable": true
   },
   "outputs": [],
   "source": [
    "%matplotlib inline\n",
    "\n",
    "import numpy as np\n",
    "import matplotlib.pyplot as plt\n",
    "x_val   = np.linspace(0,1,100) # 100 equal spaced points from 0 to 1\n",
    "y_vals  = [x_val,x_val*x_val]\n",
    "labels  = [r'x', r'$x^2$']\n",
    "cols    = ['r','g']\n",
    "points  = ['-*','-^']\n",
    "for y_val,point,col,label in zip(y_vals,points,cols,labels):\n",
    "    plt.plot(x_val,y_val,point,c=col,label=label)\n",
    "plt.grid()\n",
    "plt.legend()\n",
    "plt.show()"
   ]
  },
  {
   "cell_type": "markdown",
   "id": "bef8c865",
   "metadata": {
    "editable": true
   },
   "source": [
    "## While loops\n",
    "In most cases a for loop can also be written as a while loops and vice versa. In python you would prefer to use a for loop whenever you are iterating over a fixed number of elements. This makes the code easy to read. In cases where we are waiting for input or time is involved it may make more sense to use a while loop. Typically you would use a while loop when you do not know at the start when to stop iterating. The syntax of the while loop is to do something while a condition is true"
   ]
  },
  {
   "cell_type": "code",
   "execution_count": 20,
   "id": "6395e3d6",
   "metadata": {
    "collapsed": false,
    "editable": true
   },
   "outputs": [],
   "source": [
    "import numpy as np\n",
    "finished = False\n",
    "sum =0\n",
    "while not finished:\n",
    "      sum += np.random.random() #returns a random number between 0,1\n",
    "      if sum >= 10.:\n",
    "      \t finished = True"
   ]
  },
  {
   "cell_type": "markdown",
   "id": "8e6fde82",
   "metadata": {
    "editable": true
   },
   "source": [
    "In some cases we are iterating from $t_0$, $t_1$, etc. to a final time $t_f$, if we use a fixed time step, $\\Delta t$, we can calculate the number of steps at the beginning i.e $N= \\text{int} ((t_f-t_0)/\\Delta t)$, and use a for loop. On the other hand, in the more fancy algorithm we change the time step as the simulation proceeds and then we would choose a while loop, e.g. `while t0 <= tf:`. \n",
    "## Functions in Python\n",
    "When to use functions? There is no particular rule, *but whenever you\n",
    "start to copy and paste code from one place to another, you should\n",
    "consider to use a function*. Functions makes the code easier to read.\n",
    "It is not easy to identify which part of a program is a good candidate\n",
    "for a function, it requires skill and experience. Most likely you will\n",
    "end up changing the function definitions as your program develops.\n",
    "\n",
    "**Use short functions.**\n",
    "\n",
    "Short functions makes the code easier to read. Each function has a particular task, and it does only one thing. If functions does too many tasks there is a chance that you will have several functions doing some of the same operations. Whenever you want to extend the program you might have to make changes several places in the code. The chance then is that you will forget to do the change in some of the functions and introduce a bug.\n",
    "\n",
    "\n",
    "\n",
    "## Defining a mathematical function\n",
    "Throughout this course you will write many functions that does mathematical operations. In many cases you would also pass a function to another function to make your code more modular. Lets say we want to calculate the derivative of $\\sin x$, using the most basic definition of a derivative $f^\\prime(x) = f(x+\\Delta x)-f(x)/\\Delta x$, we could do it as"
   ]
  },
  {
   "cell_type": "code",
   "execution_count": 21,
   "id": "8aed81ea",
   "metadata": {
    "collapsed": false,
    "editable": true
   },
   "outputs": [],
   "source": [
    "def derivative_of_sine(x,delta_x):\n",
    "    ''' returns the derivative of sin x '''\n",
    "    return (np.sin(x+delta_x)-np.sin(x))/delta_x\n",
    "\n",
    "print('The derivative of sinx at x=0 is :', derivative_of_sine(0,1e-3))"
   ]
  },
  {
   "cell_type": "markdown",
   "id": "d09cb789",
   "metadata": {
    "editable": true
   },
   "source": [
    "We will return in a later chapter why $\\Delta x=10^{-3}$ is a reasonable choice. \n",
    "If we would like to calculate the derivative in multiple points, that is straight forward since we have used the Numpy version of $\\sin x$."
   ]
  },
  {
   "cell_type": "code",
   "execution_count": 22,
   "id": "aebd28c6",
   "metadata": {
    "collapsed": false,
    "editable": true
   },
   "outputs": [],
   "source": [
    "x=np.array([0,.5,1])\n",
    "print('The derivative of sinx at x=0,0.5,1 is :', derivative_of_sine(x,1e-3))"
   ]
  },
  {
   "cell_type": "markdown",
   "id": "ad8c32cd",
   "metadata": {
    "editable": true
   },
   "source": [
    "The challenge with our implementation is that if we want to calculate the derivative of another function we have to implement the derivative rule again for that function. It is better to have a separate function that calculates the derivative"
   ]
  },
  {
   "cell_type": "code",
   "execution_count": 23,
   "id": "7c373e51",
   "metadata": {
    "collapsed": false,
    "editable": true
   },
   "outputs": [],
   "source": [
    "def f(x):\n",
    "    return np.sin(x)\n",
    "\n",
    "def df(x,f,delta_x=1e-3):\n",
    "    ''' returns the derivative of f '''\n",
    "    return (f(x+delta_x)-f(x))/delta_x\n",
    "print('The derivative of sinx at x=0 is :', df(0,f))"
   ]
  },
  {
   "cell_type": "markdown",
   "id": "ac2e51de",
   "metadata": {
    "editable": true
   },
   "source": [
    "Note also that we have put `delta_x=1e-3` as a *default argument*. Default arguments have to come at the end of the argument lists, `df(x,delta_x=1e-3,f)` is not allowed. All of this looks well and good, but what you would experience is that your functions would not be as simple as $\\sin x$. In many cases your functions need additional arguments to be evaluated e.g.:"
   ]
  },
  {
   "cell_type": "code",
   "execution_count": 24,
   "id": "343f4688",
   "metadata": {
    "collapsed": false,
    "editable": true
   },
   "outputs": [],
   "source": [
    "def s(t,s0,v0,a):\n",
    "    '''\n",
    "    s0 : initial starting point\n",
    "    v0 : initial velocity\n",
    "    a  : acceleration\n",
    "    returns the distance traveled\n",
    "    '''\n",
    "    return s0+v0*t+a*t*t*0.5 #multiplication (0.5)is general faster\n",
    "    \t   \t\t     #then division (2)"
   ]
  },
  {
   "cell_type": "markdown",
   "id": "1ff4317c",
   "metadata": {
    "editable": true
   },
   "source": [
    "How can we calculate the derivative of this function? If we try to do `df(1,s)` we will get the following message"
   ]
  },
  {
   "cell_type": "code",
   "execution_count": 25,
   "id": "6523d3da",
   "metadata": {
    "collapsed": false,
    "editable": true
   },
   "outputs": [],
   "source": [
    "TypeError: s() missing 3 required positional\n",
    "\t   arguments: 's0', 'v0', and 'a'"
   ]
  },
  {
   "cell_type": "markdown",
   "id": "fbca0a64",
   "metadata": {
    "editable": true
   },
   "source": [
    "This happens because the `df` function expect that the function we send into the argument list has a call signature `f(x)`. What many people do is that they use global variable, that is to define `s0, v0, a` at the top of the code. This is not always the best solution. Python has a special variable `*args` which can be used to pass multiple arguments to your function, thus if we rewrite `df` like this"
   ]
  },
  {
   "cell_type": "code",
   "execution_count": 26,
   "id": "ffb2a3c6",
   "metadata": {
    "collapsed": false,
    "editable": true
   },
   "outputs": [],
   "source": [
    "def f(x,*args):\n",
    "    return np.sin(x)\n",
    "   \n",
    "def df(x,f,*args,delta_x=1e-3):\n",
    "    ''' returns the derivative of f '''\n",
    "    return (f(x+delta_x,*args)-f(x,*args))/delta_x"
   ]
  },
  {
   "cell_type": "markdown",
   "id": "94b69efd",
   "metadata": {
    "editable": true
   },
   "source": [
    "we can do (assuming `s0=0`, `v0=1`, and `a=9.8`)"
   ]
  },
  {
   "cell_type": "code",
   "execution_count": 27,
   "id": "b2006a04",
   "metadata": {
    "collapsed": false,
    "editable": true
   },
   "outputs": [],
   "source": [
    "print('The derivative of sinx at x=0 is :', df(0,f))\n",
    "print('The derivative of s(t) at t=1 is :', df(0,s,0,1,9.8))"
   ]
  },
  {
   "cell_type": "markdown",
   "id": "c193672a",
   "metadata": {
    "editable": true
   },
   "source": [
    "## Scope of variables\n",
    "In small programs you would not care about scope, but once you have several functions, you will easily get into trouble if you do not consider the scope of a variable. By scope of a variable we mean where it is available, first some simple examples\n",
    "\n",
    "**A variable created inside a function is only available within the function:**"
   ]
  },
  {
   "cell_type": "code",
   "execution_count": 28,
   "id": "49978a29",
   "metadata": {
    "collapsed": false,
    "editable": true
   },
   "outputs": [],
   "source": [
    "def f(x):\n",
    "    a=10\n",
    "    b=20\n",
    "    return a*x+b"
   ]
  },
  {
   "cell_type": "markdown",
   "id": "2e04d861",
   "metadata": {
    "editable": true
   },
   "source": [
    "Doing `print(a)` outside the function would create an error: `name 'a' is not defined`. What happens if we defined a variable `a` outside the function"
   ]
  },
  {
   "cell_type": "code",
   "execution_count": 29,
   "id": "6dc389a3",
   "metadata": {
    "collapsed": false,
    "editable": true
   },
   "outputs": [],
   "source": [
    "a=2\n",
    "def f(x):\n",
    "    a=10\n",
    "    b=20\n",
    "    return a*x+b"
   ]
  },
  {
   "cell_type": "markdown",
   "id": "56d14dae",
   "metadata": {
    "editable": true
   },
   "source": [
    "If we first call the function `f(0)`, and then do `print(a)` Python would give the answer `2`, *not* `10`. A *local* variable `a` is created inside `f(x)`, that does not interfere with the variable `a` defined outside the function.\n",
    "\n",
    "**The `global` keyword can be used to pass and access variables in functions:**"
   ]
  },
  {
   "cell_type": "code",
   "execution_count": 30,
   "id": "f281d22d",
   "metadata": {
    "collapsed": false,
    "editable": true
   },
   "outputs": [],
   "source": [
    "global a\n",
    "a=2\n",
    "def f(x):\n",
    "    global a\n",
    "    a=10\n",
    "    b=20\n",
    "    return a*x+b"
   ]
  },
  {
   "cell_type": "markdown",
   "id": "96635794",
   "metadata": {
    "editable": true
   },
   "source": [
    "In this case `print(a)` *before* calling `f(x)` would give the answer `2` and *after* calling `f(x)` would give `10`.\n",
    "\n",
    "**Use of global variables.**\n",
    "\n",
    "Sometimes global variables can be very useful, and help you to make the code simpler. But, make sure to use a *naming convention*  for them, e.g. end all the global variables with an underscore. In the example above we would write `global a_`. A person reading the code would then know that all variables ending with an underscore are global, and can potentially be modified by many functions.\n",
    "\n",
    "\n",
    "\n",
    "## Passing arrays and lists to functions\n",
    "In the previous section we looked at some simple examples regarding scope of variables, and what happened with that variable inside and outside a function. The examples used integer or floats, however in most applications you will pass an array or a list to a function, and then you need to be aware that the behavior is not always would you might expect.\n",
    "**Unexpected behavior.**\n",
    "\n",
    "Sometimes functions does not do what you expect to, this might be because the function does operates on the arguments as you might think. The best advice is to make a very simple version of your function and test for yourself. Is the behavior what you expect? Try to understand why or why not.\n",
    "\n",
    "\n",
    "Let us look at some examples, and try to understand what is going on and why."
   ]
  },
  {
   "cell_type": "code",
   "execution_count": 31,
   "id": "9aa5b6f0",
   "metadata": {
    "collapsed": false,
    "editable": true
   },
   "outputs": [],
   "source": [
    "x=3\n",
    "def f(x):\n",
    "    x = x*2\n",
    "    return x\n",
    "print('x =',x)\n",
    "print('f(x) returns ', f(x))\n",
    "print('x is now ', x)"
   ]
  },
  {
   "cell_type": "markdown",
   "id": "a8f35df3",
   "metadata": {
    "editable": true
   },
   "source": [
    "In the example above we can use `x=3`, `x=[3]`, `x=np.array([3])`, and after execution `x` is unchanged (i.e. same value as before `f(x)`) was called. Based on what we have discussed before, this is maybe what you would expect, but if we now do"
   ]
  },
  {
   "cell_type": "code",
   "execution_count": 32,
   "id": "0c2e2738",
   "metadata": {
    "collapsed": false,
    "editable": true
   },
   "outputs": [],
   "source": [
    "x=[3]\n",
    "def append_to_list(x):\n",
    "    return x.append(1)\n",
    "print('x = ',x)\n",
    "print('append_to_list(x) returns ', append_to_list(x))\n",
    "print('x is now ', x)"
   ]
  },
  {
   "cell_type": "markdown",
   "id": "f80ca434",
   "metadata": {
    "editable": true
   },
   "source": [
    "Clearly this function will only work for lists, due to the append command, after execution, we get the result"
   ]
  },
  {
   "cell_type": "code",
   "execution_count": 33,
   "id": "f8528f59",
   "metadata": {
    "collapsed": false,
    "editable": true
   },
   "outputs": [],
   "source": [
    "x = [3]\n",
    "append_to_list(x) returns  [3, 1]\n",
    "x is now  [3, 1]"
   ]
  },
  {
   "cell_type": "markdown",
   "id": "ba03e319",
   "metadata": {
    "editable": true
   },
   "source": [
    "Even if this might be exactly what you wanted your function to do, why does `x` change here when it is a list and not in the previous case when it is a float? Before we explain this behavior let us rewrite the function to work with Numpy arrays"
   ]
  },
  {
   "cell_type": "code",
   "execution_count": 34,
   "id": "0181baba",
   "metadata": {
    "collapsed": false,
    "editable": true
   },
   "outputs": [],
   "source": [
    "x=np.array([3])\n",
    "def append_to_np(x):\n",
    "    return np.append(x,1)\n",
    "print('x = ',x)\n",
    "print('append_to_np(x) returns ', append_to_np(x))\n",
    "print('x is now ', x)"
   ]
  },
  {
   "cell_type": "markdown",
   "id": "e0a92047",
   "metadata": {
    "editable": true
   },
   "source": [
    "The output of this code is"
   ]
  },
  {
   "cell_type": "code",
   "execution_count": 35,
   "id": "53297733",
   "metadata": {
    "collapsed": false,
    "editable": true
   },
   "outputs": [],
   "source": [
    "x =  [3]\n",
    "append_to_np(x) returns  [3 1]\n",
    "x is now  [3]"
   ]
  },
  {
   "cell_type": "markdown",
   "id": "ee0d36d2",
   "metadata": {
    "editable": true
   },
   "source": [
    "This time `x` was not changed, what is happening here? It is important to understand what is going on because it deals with how Python handles variables in the memory. If `x` contains million of values, it can slow down your program, if we do"
   ]
  },
  {
   "cell_type": "code",
   "execution_count": 36,
   "id": "e25dfa49",
   "metadata": {
    "collapsed": false,
    "editable": true
   },
   "outputs": [],
   "source": [
    "N=1000000\n",
    "x=[3]*N\n",
    "%%timeit append_to_list(x)\n",
    "x=np.array([3]*N)\n",
    "%%timeit append_to_np(x)"
   ]
  },
  {
   "cell_type": "markdown",
   "id": "47e97ffb",
   "metadata": {
    "editable": true
   },
   "source": [
    "On my computer I found that `append_to_list` used 76 nano seconds, and `append_\n",
    "to_np` used 512 micro seconds, the Numpy function was about 6000 times slower! To add to the confusion consider the following functions"
   ]
  },
  {
   "cell_type": "code",
   "execution_count": 37,
   "id": "f0adabc9",
   "metadata": {
    "collapsed": false,
    "editable": true
   },
   "outputs": [],
   "source": [
    "x=np.array([3])\n",
    "def add_to_np(x):\n",
    "    x=x+3\n",
    "    return x\n",
    "\n",
    "def add_to_np2(x):\n",
    "    x+=3\n",
    "    return x\n",
    "print('x = ',x)\n",
    "print('add_to_np(x) returns ', add_to_np(x))\n",
    "print('x is now ', x)\n",
    "\n",
    "print('x = ',x)\n",
    "print('add_to_np2(x) returns ', add_to_np2(x))\n",
    "print('x is now ', x)"
   ]
  },
  {
   "cell_type": "markdown",
   "id": "2b5a6427",
   "metadata": {
    "editable": true
   },
   "source": [
    "The output is"
   ]
  },
  {
   "cell_type": "code",
   "execution_count": 38,
   "id": "56148ca0",
   "metadata": {
    "collapsed": false,
    "editable": true
   },
   "outputs": [],
   "source": [
    "x =  [3]\n",
    "add_to_np(x) returns  [6]\n",
    "x is now  [3]\n",
    "x =  [3]\n",
    "add_to_np2(x) returns  [6]\n",
    "x is now  [6]"
   ]
  },
  {
   "cell_type": "markdown",
   "id": "7a6024cb",
   "metadata": {
    "editable": true
   },
   "source": [
    "In both cases the function returns what you expect, but it has an unexpected (or at least a different) behavior regarding the variable `x`. What about speed?"
   ]
  },
  {
   "cell_type": "code",
   "execution_count": 39,
   "id": "f3c195b7",
   "metadata": {
    "collapsed": false,
    "editable": true
   },
   "outputs": [],
   "source": [
    "N=10000000\n",
    "x=np.array([3]*N)\n",
    "%%timeit add_to_np(x)\n",
    "x=np.array([3]*N)\n",
    "%%timeit add_to_np2(x)"
   ]
  },
  {
   "cell_type": "markdown",
   "id": "1db07a8e",
   "metadata": {
    "editable": true
   },
   "source": [
    "`add_to_np` is about twice as slow as `add_to_np2`. In the next section we will try to explain the difference in behavior.\n",
    "\n",
    "**Avoiding unwanted behavior of functions.**\n",
    "\n",
    "The examples in this section is meant to show you that if you pass an array to a function the array can be altered outside the scope of the function. If this is not what you want, it could lead to bugs that are hard to detect. Thus, if you experience unwanted behavior pick out the part of function involving list or array operations and test one by one in the editor.\n",
    "\n",
    "\n",
    "\n",
    "## Call by value or call by reference\n",
    "For anyone that has programmed in C or C++ call by reference or value is something one need to think about constantly. When we pass a variable to a function there are two choices, should we pass a copy of the variable or should we pass information about where the variable is stored in memory?\n",
    "**Value and reference.**\n",
    "\n",
    "In C and C++ pass by value means that we are making a copy in the memory of the variable we are sending to the function, and pass by reference means that we are sending the actual parameter or more specific the address to the memory location of the parameter. In Python all variables are passed by object reference.\n",
    "\n",
    "\n",
    "In C and C++ you always tell in the function definition if the variables are passed by value or reference. Thus if you would like a change in a variable outside the function definition, you pass the variable by reference, otherwise by value. In Python we always pass by (object) reference.\n",
    "\n",
    "### Floats and integers\n",
    "\n",
    "To gain a deeper understanding we can use the `id` function, the `id` function gives the unique id to a variable, in C this would be the actual memory address, lets look at a couple of examples"
   ]
  },
  {
   "cell_type": "code",
   "execution_count": 40,
   "id": "852ad208",
   "metadata": {
    "collapsed": false,
    "editable": true
   },
   "outputs": [],
   "source": [
    "a=10.0\n",
    "print(id(a)) #gives on my computer 140587667748656\n",
    "a += 1\n",
    "print(id(a)) #gives on my computer 140587667748400"
   ]
  },
  {
   "cell_type": "markdown",
   "id": "0e625e9c",
   "metadata": {
    "editable": true
   },
   "source": [
    "Thus, after adding 1 to `a`, `a` is assigned a new place in memory. This is very different from C or C++, in C or C++ the variable, once it is created, always has the same memory address. In Python this is not the case, it is works in the opposite way. The statement `a=10.0`, is executed so that *first* 10.0 is created in memory *then `x` is assigned the reference to 10.0 `x`*. The assignment operator `=` indicates that `a` should point to whatever is on the right hand side. Another example is"
   ]
  },
  {
   "cell_type": "code",
   "execution_count": 41,
   "id": "6a7d9f7b",
   "metadata": {
    "collapsed": false,
    "editable": true
   },
   "outputs": [],
   "source": [
    "a=10.0\n",
    "b=10.0\n",
    "print(a is b) # prints False\n",
    "b=a\n",
    "print(a is b ) # prints True"
   ]
  },
  {
   "cell_type": "markdown",
   "id": "5f910377",
   "metadata": {
    "editable": true
   },
   "source": [
    "In this case 10.0 is created in two different places in the memory and a different reference is assigned to `a` and `b`. However if we put `b=a`, `b` points to the same object as `a` is pointing on. More examples"
   ]
  },
  {
   "cell_type": "code",
   "execution_count": 42,
   "id": "78d624bb",
   "metadata": {
    "collapsed": false,
    "editable": true
   },
   "outputs": [],
   "source": [
    "a=10\n",
    "b=a\n",
    "print(a is b) # True\n",
    "a+=2\n",
    "print(a is b) # False"
   ]
  },
  {
   "cell_type": "markdown",
   "id": "5e9c0df1",
   "metadata": {
    "editable": true
   },
   "source": [
    "When we add 2 to `a`, we actually add 2 to the value of 10, the number 12 is assigned a new place in memory and `a` will be assigned that object, whereas `b` would still points the old object 10.\n",
    "\n",
    "### Lists and arrays\n",
    "\n",
    "Yous should think of lists and arrays as containers (or a box). If we do"
   ]
  },
  {
   "cell_type": "code",
   "execution_count": 43,
   "id": "a9471073",
   "metadata": {
    "collapsed": false,
    "editable": true
   },
   "outputs": [],
   "source": [
    "x=[0,1,2,3,4]\n",
    "print(id(x))\n",
    "x[0]=10\n",
    "print(id(x)) # same id value as before and x=[10,1,2,3,4]"
   ]
  },
  {
   "cell_type": "markdown",
   "id": "fb7c8486",
   "metadata": {
    "editable": true
   },
   "source": [
    "First, we create a list, which is basically a box with the numbers 0, 1, 2, 3, 4. The variable `x` points to the box, and `x[0]` points to 0, and `x[1]` to 1 etc. Thus if we do `x[0]=10`, that would be the same as picking 0 out of the box and replacing it with 10, but *the box stays the same*. Thus when we do `print(x)`, we print the content of the box. If we do"
   ]
  },
  {
   "cell_type": "code",
   "execution_count": 44,
   "id": "a0cc1475",
   "metadata": {
    "collapsed": false,
    "editable": true
   },
   "outputs": [],
   "source": [
    "x=[0,1,2,3,4]\n",
    "y=x\n",
    "print(x is y) # True\n",
    "x.append(10)  # x is now [0,1,2,3,4,10]\n",
    "print(y)      # y=[0,1,2,3,4,10]\n",
    "print(x is y) # True"
   ]
  },
  {
   "cell_type": "markdown",
   "id": "5b04966a",
   "metadata": {
    "editable": true
   },
   "source": [
    "What happens here is that we create a box with the numbers 0, 1, 2, 3, 4, `x` is referenced that box. Next, we do `y=x` so that `y` is referenced the *same box* as `x`. Then, we add the number 10 to that box, and `x` and `y` still points to the same box.\n",
    "\n",
    "Numpy arrays behave differently, and that is basically because if we want to add a number to a Numpy array we have to do `x=np.array(x,10)`. Because of the assignment operator `=` , we take the content of the original box add 10 and put it into a new box"
   ]
  },
  {
   "cell_type": "code",
   "execution_count": 45,
   "id": "ddc375e5",
   "metadata": {
    "collapsed": false,
    "editable": true
   },
   "outputs": [],
   "source": [
    "x=np.array([0,1,2,3,4])\n",
    "y=x\n",
    "print(x is y)     # True\n",
    "x=np.append(x,10) # x is now [0,1,2,3,4,10]\n",
    "print(y)          # y=[0,1,2,3,4]\n",
    "print(x is y)     # False"
   ]
  },
  {
   "cell_type": "markdown",
   "id": "2e31afbc",
   "metadata": {
    "editable": true
   },
   "source": [
    "The reason for this behavior is that the elements in Numpy arrays (contrary to lists) have to be continuous in the memory, and the only way to achieve this is to create a new box that is large enough to also contain the new number. This also explains that if you use the `np.append(x,some_value)` inside a function where `x` is large it could slow down your code, because the program has to delete `x` and create a new very large box each time it would want to add a new element. A better way to do it is to create `x` *large enough* in the beginning, and then just assign values `x[i]=a`. \n",
    "\n",
    "## Mutable and immutable objects\n",
    "What we have explained in the previous section is related to what is known as mutable and immutable objects. These terms are used to describe objects that has an internal state that can be changed (mutable) and objects that has an internal state that cannot be changed after they have been created. Example of mutable objects are lists, dictionaries, and arrays, examples of immutable objects are floats, ints, tuples, and strings. Thus if we create the number 10 its value cannot be changed (and why would we do that?). Note that that is *not the same as saying that*  `x=10` and that the internal state of `x` cannot change, this is *not* true. We are allowed to make `x` reference another object. If we do `x=10`, then `x is 10` will give true and the will have the same value if we use the `id` operator on `x` and `10`. If we later say that `a=11` then `a is 10` will give false and `id(a)` and `id(10)` give different values, but *`id(10)` will have the same value as before*.\n",
    "\n",
    "Lists are mutable objects, and once a list is created we can change the content without changing the reference to that object. That is why the operations `x=[]` and `x.append(1)`, does not change the id of x, and also explain that if we put `y=x`, `y` would change if `x` is changed. Contrary to immutable objects if `x=[]`, and `y=[]` then `x is y` will give false. Thus, whenever you create a list it will be an unique object.    \n",
    "\n",
    "**A final tip.**\n",
    "\n",
    "You are bound to get into strange, unwanted behavior when working with lists, arrays and dictionaries (mutable) objects in Python. Whenever, you are unsure, just make a simple version of your lists and perform some of the operations on them to investigate if the behavior is what you want.\n",
    "\n",
    "\n",
    "At the end we list some \"unexpected\" behavior, just to demonstrate that it is easy to do mistakes and one should always test code on simple examples."
   ]
  },
  {
   "cell_type": "code",
   "execution_count": 46,
   "id": "62dd1f17",
   "metadata": {
    "collapsed": false,
    "editable": true
   },
   "outputs": [],
   "source": [
    "x  = [1, 2, 3]\n",
    "x_old[:] = x[:] # x_old = [1, 2, 3]\n",
    "x[0] = 10\n",
    "print(x_old) # \"expected\" x_old = [10, 2, 3], actual [1, 2, 3]"
   ]
  },
  {
   "cell_type": "markdown",
   "id": "dbb4a412",
   "metadata": {
    "editable": true
   },
   "source": [
    "Comment: We put the *content* of the `x` container into `x_old`, but `x` and `x_old` reference different containers."
   ]
  },
  {
   "cell_type": "code",
   "execution_count": 47,
   "id": "3f810072",
   "metadata": {
    "collapsed": false,
    "editable": true
   },
   "outputs": [],
   "source": [
    "def add_to_list(x,add_to=[])\n",
    "    add_to.append(x)\n",
    "\n",
    "print(add_to_list(1)) # \"expected\" [1] actual [1]\n",
    "print(add_to_list(2)) # \"expected\" [2] actual [1, 2]\n",
    "print(add_to_list(3)) # \"expected\" [3] actual [1, 2, 3]"
   ]
  },
  {
   "cell_type": "markdown",
   "id": "a43180b7",
   "metadata": {
    "editable": true
   },
   "source": [
    "Comment: `add_to=[]` is a default argument and it is created once when the program starts and not each time the function is called."
   ]
  },
  {
   "cell_type": "code",
   "execution_count": 48,
   "id": "745ab463",
   "metadata": {
    "collapsed": false,
    "editable": true
   },
   "outputs": [],
   "source": [
    "x = [10]\n",
    "y = x\n",
    "y = y + [1]\n",
    "print(x, y) # prints [10] [10, 1]\n",
    "\n",
    "x = [10]\n",
    "y = x\n",
    "y += [1] \n",
    "print(x, y) # prints [10, 1] [10, 1]"
   ]
  },
  {
   "cell_type": "markdown",
   "id": "57456d39",
   "metadata": {
    "editable": true
   },
   "source": [
    "Comment: In the first case `y + [1]` creates a new object and the assignment operator `=` assign `y` to that object, thus `x` stays the same. In the second case the `+=` adds `[1]` to the `y` container without changing the container, and thus `x` also changes.  \n",
    "\n",
    "# References\n",
    "\n",
    "1. <div id=\"vanderplas2016whirlwind\"></div> **J. T. Vanderplas**.  *A Whirlwind Tour of Python*, O'Reilly Media, 2016.\n",
    "\n",
    "2. <div id=\"thomas2019pragmatic\"></div> **D. Thomas and A. Hunt**.  *The Pragmatic Programmer: Your Journey to Mastery*, Addison-Wesley Professional, 2019."
   ]
  }
 ],
 "metadata": {},
 "nbformat": 4,
 "nbformat_minor": 5
}
