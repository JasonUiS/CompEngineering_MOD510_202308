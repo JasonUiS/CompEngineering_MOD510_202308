{
 "cells": [
  {
   "cell_type": "markdown",
   "metadata": {},
   "source": [
    "<!-- dom:TITLE: Ordinary Differential Equations (ODE) -->\n",
    "# Ordinary Differential Equations (ODE)\n",
    "<!-- dom:AUTHOR: Prepared as part of MOD510 Computational Engineering and Modeling -->\n",
    "<!-- Author: -->  \n",
    "**Prepared as part of MOD510 Computational Engineering and Modeling**\n",
    "\n",
    "Date: **Sep 16, 2021**\n",
    "\n",
    "# ODE Notebook\n",
    "Learning objectives:\n",
    "* being able to implement a numerical algorithm in python\n",
    "\n",
    "* quantify numerical uncertainty\n",
    "\n",
    "* test different methods and have basic understanding of the strength and weaknesses of each method\n",
    "\n",
    "<!-- --- begin exercise --- -->\n",
    "\n",
    "## Exercise 1: Runge-Kutta Methods\n",
    "\n",
    "<!-- FIGURE: [fig-ode/rk_fig, width=800] Illustration of the Euler algorithm, and a motivation for using the slope a distance from the $t_n$.<div id=\"fig:ode:rk\"></div> -->\n",
    "\n",
    "The Euler method only have an accuracy of order $h$, and a global error that do not go to zero as the step size decrease. The 2. order Runge-Kutta method is accurate to $h^2$. \n",
    "### The 2. order Runge-Kutta:"
   ]
  },
  {
   "cell_type": "markdown",
   "metadata": {},
   "source": [
    "$$\n",
    "k_1=hf(y_n,t_n)\\nonumber\n",
    "$$"
   ]
  },
  {
   "cell_type": "markdown",
   "metadata": {},
   "source": [
    "$$\n",
    "k_2=hf(y_n+\\frac{1}{2}k_1,t_n+h/2)\\nonumber\n",
    "$$"
   ]
  },
  {
   "cell_type": "markdown",
   "metadata": {},
   "source": [
    "<!-- Equation labels as ordinary links -->\n",
    "<div id=\"eq:ode:rk4\"></div>\n",
    "\n",
    "$$\n",
    "\\begin{equation}  \n",
    "y_{n+1}=y_n+k_2\\label{eq:ode:rk4} \\tag{1}\n",
    "\\end{equation}\n",
    "$$"
   ]
  },
  {
   "cell_type": "markdown",
   "metadata": {},
   "source": [
    "### The 4. order Runge-Kutta:\n",
    "\n",
    "The Runge-Kutta fourth order method is one of he most used methods, it is accurate to order $h^4$, and has an error of order $h^5$."
   ]
  },
  {
   "cell_type": "markdown",
   "metadata": {},
   "source": [
    "$$\n",
    "k_1=hf(y_n,t_n)\\nonumber\n",
    "$$"
   ]
  },
  {
   "cell_type": "markdown",
   "metadata": {},
   "source": [
    "$$\n",
    "k_2=hf(y_n+\\frac{1}{2}k_1,t_n+h/2)\\nonumber\n",
    "$$"
   ]
  },
  {
   "cell_type": "markdown",
   "metadata": {},
   "source": [
    "$$\n",
    "k_3=hf(y_n+\\frac{1}{2}k_2,t_n+h/2)\\nonumber\n",
    "$$"
   ]
  },
  {
   "cell_type": "markdown",
   "metadata": {},
   "source": [
    "$$\n",
    "k_4=hf(y_n+k_3,t_n+h)\\nonumber\n",
    "$$"
   ]
  },
  {
   "cell_type": "markdown",
   "metadata": {},
   "source": [
    "<!-- Equation labels as ordinary links -->\n",
    "<div id=\"eq:ode:rk5\"></div>\n",
    "\n",
    "$$\n",
    "\\begin{equation}  \n",
    "y_{n+1}=y_n+\\frac{1}{6}(k_1+2k_2+2k_3+k_4)\\label{eq:ode:rk5} \\tag{2}\n",
    "\\end{equation}\n",
    "$$"
   ]
  },
  {
   "cell_type": "markdown",
   "metadata": {},
   "source": [
    "In the following we are going to solve the CSTR equation:"
   ]
  },
  {
   "cell_type": "markdown",
   "metadata": {},
   "source": [
    "<!-- Equation labels as ordinary links -->\n",
    "<div id=\"eq:ode:cstr2\"></div>\n",
    "\n",
    "$$\n",
    "\\begin{equation}\n",
    "V\\frac{dC(t)}{dt} = q(t)\\left[C_\\text{in}(t) - C(t)\\right].\\label{eq:ode:cstr2} \\tag{3}\n",
    "\\end{equation}\n",
    "$$"
   ]
  },
  {
   "cell_type": "markdown",
   "metadata": {},
   "source": [
    "Seawater contains about 35 gram salt/liter fluid, if we assume that the fresh water contains no salt, we have the boundary conditions $C_\\text{in}(t)=0$, $C(0)=$35gram/l. \n",
    "Complete the code below, and test it both with the Runge-Kutta 2. and 4. order method:"
   ]
  },
  {
   "cell_type": "code",
   "execution_count": 1,
   "metadata": {
    "collapsed": false
   },
   "outputs": [],
   "source": [
    "%matplotlib inline\n",
    "\n",
    "\n",
    "import matplotlib.pyplot as plt\n",
    "import numpy as np\n",
    "\n",
    "def fm(c_old,c_in):\n",
    "    return ...\n",
    "\n",
    "def rk4_step(c_old, c_in, h):\n",
    "    ... \n",
    "    return\n",
    "\n",
    "def rk2_step(c_old, c_in, h):\n",
    "    ... \n",
    "    return \n",
    "# The following code is a suggestion, most likely it can be done more efficiently\n",
    "def ode_solv(c_into,c_init,t_final,h):\n",
    "    f=[];t=[]\n",
    "    c_in  = c_into #freshwater into tank\n",
    "    c_old = c_init #seawater present \n",
    "    ti=0.\n",
    "    while(ti <= t_final):\n",
    "        t.append(ti); f.append(c_old)\n",
    "        c_new = rk4_step(c_old,c_in,h) # or rk2_step    \n",
    "        c_old = c_new\n",
    "        ti   += h\n",
    "    return t,f\n",
    "# rest of code is to make a figure\n",
    "# choose some step sizes to investigate\n",
    "h = [0.4,0.8,1.6,2.8]\n",
    "# initial values\n",
    "vol=1000;q=1;c_into = 0; c_init = 35\n",
    "tau=vol/q;t_final=10 # end of simulation in min\n",
    "t=[];f=[]\n",
    "for dti in h:\n",
    "    ti,fi = ode_solv(c_into,c_init,t_final,dti)\n",
    "    t.append(np.array(ti));f.append(fi)\n",
    "f_an = c_init*np.exp(-np.array(t[0]))\n",
    "symb = ['-p','-v','-*','-s']\n",
    "fig = plt.figure(dpi=150)\n",
    "for i in range(0,len(h)):\n",
    "    plt.plot(tau*t[i], f[i], symb[i], label='$\\Delta t =$'\n",
    "             +str(h[i]*tau)+\" min\")\n",
    "plt.plot(tau*t[0], f_an, '-', color='k',label='analytical')\n",
    "plt.legend(loc='upper right', ncol=1)\n",
    "plt.ylim([0,50])\n",
    "plt.grid()\n",
    "plt.xlabel('Time [min]')\n",
    "plt.ylabel('Concentration')\n",
    "plt.show()"
   ]
  },
  {
   "cell_type": "markdown",
   "metadata": {},
   "source": [
    "<!-- --- end exercise --- -->\n",
    "\n",
    "\n",
    "\n",
    "\n",
    "<!-- --- begin exercise --- -->\n",
    "\n",
    "## Exercise 2: Adaptive step size - Runge-Kutta Method\n",
    "\n",
    "In this exercise you are going to improve the algorithms above by choosing a step size that is not too large or too small. This will *greatly* enhance the efficiency of the code. We are going to use the following result from the compendium (to get a good understanding it is advised to derive them, see the compendium [[hiorth]](#hiorth))"
   ]
  },
  {
   "cell_type": "markdown",
   "metadata": {},
   "source": [
    "<!-- Equation labels as ordinary links -->\n",
    "<div id=\"_auto1\"></div>\n",
    "\n",
    "$$\n",
    "\\begin{equation}\n",
    "|\\epsilon|=\\frac{|\\Delta|}{2^p-1}=\\frac{|y_1^*-y_1|}{2^p-1},\n",
    "\\label{_auto1} \\tag{4}\n",
    "\\end{equation}\n",
    "$$"
   ]
  },
  {
   "cell_type": "markdown",
   "metadata": {},
   "source": [
    "<!-- Equation labels as ordinary links -->\n",
    "<div id=\"_auto2\"></div>\n",
    "\n",
    "$$\n",
    "\\begin{equation}  \n",
    "h^\\prime=\\beta h\\left|\\frac{\\epsilon}{\\epsilon_0}\\right|^{\\frac{1}{p+1}},\n",
    "\\label{_auto2} \\tag{5}\n",
    "\\end{equation}\n",
    "$$"
   ]
  },
  {
   "cell_type": "markdown",
   "metadata": {},
   "source": [
    "<!-- Equation labels as ordinary links -->\n",
    "<div id=\"_auto3\"></div>\n",
    "\n",
    "$$\n",
    "\\begin{equation}  \n",
    "\\hat{y_1}=y_1-\\epsilon=\\frac{2^p y_1-y_1^*}{2^{p}-1},\n",
    "\\label{_auto3} \\tag{6}\n",
    "\\end{equation}\n",
    "$$"
   ]
  },
  {
   "cell_type": "markdown",
   "metadata": {},
   "source": [
    "where $\\beta$ is a safety factor $\\beta\\simeq0.8,0.9$, and you should always be careful that the step size do not become too large so that\n",
    "the method breaks down. This can happens when $\\epsilon$ is very low, which may happen if $y_1^*\\simeq y_1$ and/or if $y_1^*\\simeq y_1\\simeq 0$.  \n",
    "\n",
    "Use the equations above, and implement an adaptive step size algorithm for the 2. and 4. order Runge-Kutta methods. Use the CSTR reactor, and the seawater case as above to test your implementation.  It might be a good idea to use a safety limit on the step size 'min(hi*(tol/toli)**(0.2),1)'."
   ]
  },
  {
   "cell_type": "code",
   "execution_count": 2,
   "metadata": {
    "collapsed": false
   },
   "outputs": [],
   "source": [
    "import matplotlib.pyplot as plt\n",
    "import numpy as np\n",
    "\n",
    "def adaptive_ode_solv(c_into,c_init,t_final,tol=1e-4):\n",
    "    f=[];t=[]\n",
    "    tau_inv = q/vol\n",
    "    c_in    = c_into #freshwater into tank\n",
    "    c_old   = c_init #seawater present \n",
    "    ti=0.; h_new=1;\n",
    "    toli=1.; # a high init tolerance to enter while loop\n",
    "    no_steps=0\n",
    "    global_err=0.\n",
    "    while(ti <= t_final):\n",
    "        t.append(ti); f.append(c_old)\n",
    "        tol = tol + tol*np.fabs(c_old) \n",
    "        while(toli>tol):\n",
    "            hi=h_new\n",
    "\t    # first two small steps:\n",
    "            k1 = rk4_step(c_old,c_in, ...)\n",
    "            k2 = rk4_step(k1,c_in, ...)\n",
    "            # ... and one large step\n",
    "            k3 = rk4_step(c_old,c_in,...)\n",
    "\t    # estimate local error\n",
    "            toli = ... (equation above)\n",
    "\t    # new step size\n",
    "            h_new=min(... (equation above) ... ,1)\n",
    "            no_steps+=3\n",
    "        toli=1.\n",
    "\t# estimate new solution \n",
    "        c_old= ... (equation above)... \n",
    "        ti   += hi\n",
    "    print(\"No steps=\", no_steps)\n",
    "    return t,f\n",
    "# rest of code is to make a figure\n",
    "vol=1;q=1;c_into = 0; c_init =1\n",
    "t_final=10 # end of simulation\n",
    "t=[];f=[]\n",
    "tol=[1e-8,1e-7,1e-6,1e-5]\n",
    "for toli in tol:\n",
    "    ti,fi = adaptive_ode_solv(c_into,c_init,t_final,toli)\n",
    "    t.append(ti);f.append(fi)\n",
    "\n",
    "f_an = np.exp(-np.array(t[0]))\n",
    "symb = ['-p','-v','-*','-s']\n",
    "fig = plt.figure(dpi=150)\n",
    "for i in range(0,len(tol)):\n",
    "    plt.plot(t[i], f[i], symb[i], label='tol='+str(tol[i]))\n",
    "plt.plot(t[0], f_an, '-', color='k',label='analytical')\n",
    "plt.legend(loc='lower left', ncol=1)\n",
    "plt.grid()\n",
    "plt.yscale('log')\n",
    "plt.xlabel(r'Time [min/$\\tau$]')\n",
    "plt.ylabel('Concentration')\n",
    "plt.show()"
   ]
  },
  {
   "cell_type": "markdown",
   "metadata": {},
   "source": [
    "* How many steps do you need for the Runge-Kutta of 2. order compared to 4. order\n",
    "\n",
    "* The tolerance might be calculated as $\\epsilon^\\prime = atol +|y|rtol$, where 'atol' is the absolute tolerance and 'rtol' is the relative tolerance. A sensible choice would be to set 'atol=rtol' (e.g. = $10^{-4}$).\n",
    "\n",
    "<!-- --- end exercise --- -->\n",
    "\n",
    "\n",
    "\n",
    "\n",
    "<!-- --- begin exercise --- -->\n",
    "\n",
    "## Exercise 3: Solving a set of ODE equations\n",
    "\n",
    "What happens if we have more than one equation that needs to be solved? If we continue with our current example, we might be interested in what would happen \n",
    "if we had multiple tanks in series. This could be a very simple model to describe the cleaning  of a salty lake by injecting fresh water into it, but at \n",
    "the same time this lake was connected to two nearby fresh water lakes, as illustrated in [figure](#fig:ode:cstr3). The weakest part of the model is the assumption about \n",
    "complete mixing, in a practical situation we could enforce complete mixing with the salty water in the first tank by injecting fresh water at multiple point in the \n",
    "lake. For the two next lakes, the degree of mixing is not obvious, but salt water is heavier than fresh water and therefore it would sink and mix with the fresh water. Thus\n",
    "if the flow rate was slow, one might imaging that a more or less complete mixing could occur. Our model then could answer questions like, how long time would it take before most\n",
    "of the salt water is removed from the first lake, and how much time would it take before most of the salt water was cleared from the whole system? The answer to \n",
    "these questions would give practical input on how much and how fast one should inject the fresh water to clean up the system. If we had \n",
    "data from an actual system, we could compare our model predictions with data from the physical system, and investigate if our model description was correct. \n",
    "\n",
    "<!-- dom:FIGURE: [fig-ode/cstr3.png, width=800] A simple model for cleaning a salty lake that is connected to two lakes down stream. <div id=\"fig:ode:cstr3\"></div> -->\n",
    "<!-- begin figure -->\n",
    "<div id=\"fig:ode:cstr3\"></div>\n",
    "\n",
    "<p>A simple model for cleaning a salty lake that is connected to two lakes down stream.</p>\n",
    "<img src=\"fig-ode/cstr3.png\" width=800>\n",
    "\n",
    "<!-- end figure -->\n",
    "\n",
    "\n",
    "For simplicity we will assume that all the lakes have the same volume, $V$. The governing equations follows\n",
    "as before, by assuming mass balance:"
   ]
  },
  {
   "cell_type": "markdown",
   "metadata": {},
   "source": [
    "$$\n",
    "C_0(t+\\Delta t)\\cdot V - C_0(t)\\cdot V = q(t)\\cdot C_\\text{in}(t)\\cdot \\Delta t - q(t)\\cdot C_0(t)\\cdot \\Delta t,\\nonumber\n",
    "$$"
   ]
  },
  {
   "cell_type": "markdown",
   "metadata": {},
   "source": [
    "$$\n",
    "C_1(t+\\Delta t)\\cdot V - C_1(t)\\cdot V = q(t)\\cdot C_0(t)\\cdot \\Delta t - q(t)\\cdot C_1(t)\\cdot \\Delta t,\\nonumber\n",
    "$$"
   ]
  },
  {
   "cell_type": "markdown",
   "metadata": {},
   "source": [
    "<!-- Equation labels as ordinary links -->\n",
    "<div id=\"eq:ode:cstr3a\"></div>\n",
    "\n",
    "$$\n",
    "\\begin{equation}  \n",
    "C_2(t+\\Delta t)\\cdot V - C_2(t)\\cdot V = q(t)\\cdot C_1(t)\\cdot \\Delta t - q(t)\\cdot C_2(t)\\cdot \\Delta t.\\label{eq:ode:cstr3a} \\tag{7}\n",
    "\\end{equation}\n",
    "$$"
   ]
  },
  {
   "cell_type": "markdown",
   "metadata": {},
   "source": [
    "Taking the limit $\\Delta t\\to 0$, we can write equation ([7](#eq:ode:cstr3a)) as:"
   ]
  },
  {
   "cell_type": "markdown",
   "metadata": {},
   "source": [
    "<!-- Equation labels as ordinary links -->\n",
    "<div id=\"eq:ode:cstr3b\"></div>\n",
    "\n",
    "$$\n",
    "\\begin{equation}\n",
    "V\\frac{dC_0(t)}{dt} = q(t)\\left[C_\\text{in}(t) - C_0(t)\\right],\\label{eq:ode:cstr3b} \\tag{8}\n",
    "\\end{equation}\n",
    "$$"
   ]
  },
  {
   "cell_type": "markdown",
   "metadata": {},
   "source": [
    "<!-- Equation labels as ordinary links -->\n",
    "<div id=\"eq:ode:cstr3c\"></div>\n",
    "\n",
    "$$\n",
    "\\begin{equation}  \n",
    "V\\frac{dC_1(t)}{dt} = q(t)\\left[C_0(t) - C_1(t)\\right],\\label{eq:ode:cstr3c} \\tag{9}\n",
    "\\end{equation}\n",
    "$$"
   ]
  },
  {
   "cell_type": "markdown",
   "metadata": {},
   "source": [
    "<!-- Equation labels as ordinary links -->\n",
    "<div id=\"eq:ode:cstr3d\"></div>\n",
    "\n",
    "$$\n",
    "\\begin{equation}  \n",
    "V\\frac{dC_2(t)}{dt} = q(t)\\left[C_1(t) - C_2(t)\\right].\\label{eq:ode:cstr3d} \\tag{10}\n",
    "\\end{equation}\n",
    "$$"
   ]
  },
  {
   "cell_type": "markdown",
   "metadata": {},
   "source": [
    "Show that the analytical solution is:"
   ]
  },
  {
   "cell_type": "markdown",
   "metadata": {},
   "source": [
    "<!-- Equation labels as ordinary links -->\n",
    "<div id=\"eq:ode:cstr3h\"></div>\n",
    "\n",
    "$$\n",
    "\\begin{equation}\n",
    "V\\frac{dC_2(t)}{dt} = q(t)\\left[\\frac{C_{0,0}t}{\\tau}e^{-t/\\tau} - C_2(t)\\right],\\label{eq:ode:cstr3h} \\tag{11}\n",
    "\\end{equation}\n",
    "$$"
   ]
  },
  {
   "cell_type": "markdown",
   "metadata": {},
   "source": [
    "<!-- Equation labels as ordinary links -->\n",
    "<div id=\"eq:ode:cstr3i\"></div>\n",
    "\n",
    "$$\n",
    "\\begin{equation}  \n",
    "\\frac{d}{dt}\\left[e^{t/\\tau}C_2\\right]= \\frac{C_{0,0}t}{\\tau},\\label{eq:ode:cstr3i} \\tag{12}\n",
    "\\end{equation}\n",
    "$$"
   ]
  },
  {
   "cell_type": "markdown",
   "metadata": {},
   "source": [
    "<!-- Equation labels as ordinary links -->\n",
    "<div id=\"eq:ode:cstr3j\"></div>\n",
    "\n",
    "$$\n",
    "\\begin{equation}  \n",
    "C_2(t)=\\frac{C_{0,0}t^2}{2\\tau^2}e^{-t/\\tau}.\\label{eq:ode:cstr3j} \\tag{13}\n",
    "\\end{equation}\n",
    "$$"
   ]
  },
  {
   "cell_type": "markdown",
   "metadata": {},
   "source": [
    "The numerical solution follows the exact same pattern as before if we introduce a vector notation. Before doing that, we rescale the time $t\\to t/\\tau$ and the concentrations,\n",
    " $\\hat{C_i}=C_i/C_{0,0}$ for $i=0,1,2$, hence:"
   ]
  },
  {
   "cell_type": "markdown",
   "metadata": {},
   "source": [
    "$$\n",
    "\\frac{d}{dt}\n",
    "\\left(\n",
    "\\begin{array}{c} \n",
    " \\hat{C_0}(t)\\\\ \n",
    " \\hat{C_1}(t)\\\\ \n",
    " \\hat{C_2}(t)\n",
    " \\end{array}\n",
    " \\right)\n",
    "=\\left(\n",
    "\\begin{array}{c} \n",
    " \\hat{C_\\text{in}}(t) - \\hat{C_0}(t)\\\\ \n",
    " \\hat{C_0}(t) - \\hat{C_1}(t)\\\\ \n",
    " \\hat{C_1}(t) - \\hat{C_2}(t)\n",
    " \\end{array}\n",
    " \\right),\\nonumber\n",
    "$$"
   ]
  },
  {
   "cell_type": "markdown",
   "metadata": {},
   "source": [
    "<!-- Equation labels as ordinary links -->\n",
    "<div id=\"_auto4\"></div>\n",
    "\n",
    "$$\n",
    "\\begin{equation}  \n",
    " \\frac{d\\mathbf{\\hat{C}}(t)}{dt}=\\mathbf{f}(\\mathbf{\\hat{C}},t).\n",
    "\\label{_auto4} \\tag{14}\n",
    "\\end{equation}\n",
    "$$"
   ]
  },
  {
   "cell_type": "markdown",
   "metadata": {},
   "source": [
    "Finnish the implementation of the code:"
   ]
  },
  {
   "cell_type": "code",
   "execution_count": 3,
   "metadata": {
    "collapsed": false
   },
   "outputs": [],
   "source": [
    "import matplotlib.pyplot as plt\n",
    "import numpy as np\n",
    "\n",
    "def fm(c_old,c_in,tau):\n",
    "    return (c_in-c_old)/tau\n",
    "\n",
    "def rk4_step(c_old, c_in, tau, h):\n",
    "    #vectorize the code\n",
    "    return c_next\n",
    "\n",
    "def ode_solv(c_into,c_init,t_final,tau,h):\n",
    "    f=[];t=[]\n",
    "    c_in  = c_into #freshwater into first tank\n",
    "    c_old = c_init #seawater present \n",
    "    ti=0.\n",
    "    while(ti <= t_final):\n",
    "        t.append(ti); f.append(c_old)\n",
    "        c_new = rk4_step(c_old,c_in,tau,h)     \n",
    "        c_old = c_new\n",
    "        # add boundary condition - put concentration of tank 0 into tank 1 etc.\n",
    "\n",
    "        ti   += h\n",
    "    return np.array(t),np.array(f)\n",
    "h = 1e-2\n",
    "# initial values\n",
    "vol=1;q=1;c_into = [0,0,0]; c_init = [1,0,0]\n",
    "tau=[1,1,1];t_final=10 # end of simulation \n",
    "t,f = ode_solv(c_into,c_init,t_final,tau,h)\n",
    "# rest of code is to make a figure\n",
    "\n",
    "f_an = []\n",
    "f_an.append(c_init[0]*np.exp(-t))\n",
    "f_an.append(c_init[0]*t*np.exp(-t))\n",
    "f_an.append(c_init[0]*0.5*t*t*np.exp(-t))\n",
    "\n",
    "symb = ['-p','-v','-*','-s']\n",
    "fig = plt.figure(dpi=150)\n",
    "for i in range(0,len(c_init)):\n",
    "    legi = '$\\hat{C}_'+str(i)+'(\\\\tau)$'\n",
    "    plt.plot(t, f[:,i], '-', label=legi,lw=4)\n",
    "    plt.plot(t, f_an[i], '--', color='k')\n",
    "plt.plot(0,0 , '--', color='k',label='analytical')\n",
    "plt.legend(loc='upper right', ncol=1)\n",
    "#plt.ylim([0,50])\n",
    "plt.grid()\n",
    "plt.xlabel('Time')\n",
    "plt.ylabel('Concentration')\n",
    "plt.show()"
   ]
  },
  {
   "cell_type": "markdown",
   "metadata": {},
   "source": [
    "<!-- --- end exercise --- -->\n",
    "\n",
    "\n",
    "\n",
    "\n",
    "<!-- --- begin exercise --- -->\n",
    "\n",
    "## Exercise 4: Stiff sets of ODE  and implicit methods\n",
    "\n",
    "As already mentioned a couple of times, our system could be part of a much larger system. To illustrate this, let us now assume that we have two \n",
    "tanks in series. The first tank is similar to our original tank, but the second tank is a sampling tank, 1000 times smaller.   \n",
    "\n",
    "<!-- dom:FIGURE: [fig-ode/cstr2.png, width=800] A continuous stirred tank model with a sampling vessel. <div id=\"fig:ode:cstr2\"></div> -->\n",
    "<!-- begin figure -->\n",
    "<div id=\"fig:ode:cstr2\"></div>\n",
    "\n",
    "<p>A continuous stirred tank model with a sampling vessel.</p>\n",
    "<img src=\"fig-ode/cstr2.png\" width=800>\n",
    "\n",
    "<!-- end figure -->\n",
    "\n",
    "\n",
    "The governing equations can be found by requiring mass balance for each of the tanks:"
   ]
  },
  {
   "cell_type": "markdown",
   "metadata": {},
   "source": [
    "$$\n",
    "C_0(t+\\Delta t)\\cdot V_0 - C_0(t)\\cdot V_0 = q(t)\\cdot C_\\text{in}(t)\\cdot \\Delta t - q(t)\\cdot C_0(t)\\cdot \\Delta t.\\nonumber\n",
    "$$"
   ]
  },
  {
   "cell_type": "markdown",
   "metadata": {},
   "source": [
    "<!-- Equation labels as ordinary links -->\n",
    "<div id=\"eq:ode:cstr2a\"></div>\n",
    "\n",
    "$$\n",
    "\\begin{equation}  \n",
    "C_1(t+\\Delta t)\\cdot V_1 - C_1(t)\\cdot V_1 = q(t)\\cdot C_0(t)\\cdot \\Delta t - q(t)\\cdot C_1(t)\\cdot \\Delta t.\n",
    "\\label{eq:ode:cstr2a} \\tag{15}\n",
    "\\end{equation}\n",
    "$$"
   ]
  },
  {
   "cell_type": "markdown",
   "metadata": {},
   "source": [
    "Taking the limit $\\Delta t\\to 0$, we can write equation ([15](#eq:ode:cstr2a)) as:"
   ]
  },
  {
   "cell_type": "markdown",
   "metadata": {},
   "source": [
    "<!-- Equation labels as ordinary links -->\n",
    "<div id=\"eq:ode:cstr2bb\"></div>\n",
    "\n",
    "$$\n",
    "\\begin{equation}\n",
    "V_0\\frac{dC_0(t)}{dt} = q(t)\\left[C_\\text{in}(t) - C_0(t)\\right].\\label{eq:ode:cstr2bb} \\tag{16}\n",
    "\\end{equation}\n",
    "$$"
   ]
  },
  {
   "cell_type": "markdown",
   "metadata": {},
   "source": [
    "<!-- Equation labels as ordinary links -->\n",
    "<div id=\"eq:ode:cstr2b\"></div>\n",
    "\n",
    "$$\n",
    "\\begin{equation}  \n",
    "V_1\\frac{dC_1(t)}{dt} = q(t)\\left[C_0(t) - C_1(t)\\right].\\label{eq:ode:cstr2b} \\tag{17}\n",
    "\\end{equation}\n",
    "$$"
   ]
  },
  {
   "cell_type": "markdown",
   "metadata": {},
   "source": [
    "Assume that the first tank is filled with seawater, $C_0(0)=C_{0,0}$, and fresh water is flooded into the tank, i.e. $C_\\text{in}=0$. Before we start to consider a numerical\n",
    "solution, let us first find the analytical solution: As before the solution for the first tank (equation ([16](#eq:ode:cstr2bb))) is:"
   ]
  },
  {
   "cell_type": "markdown",
   "metadata": {},
   "source": [
    "<!-- Equation labels as ordinary links -->\n",
    "<div id=\"_auto5\"></div>\n",
    "\n",
    "$$\n",
    "\\begin{equation}\n",
    "C_0(t)=C_{0,0}e^{-t/\\tau_0},\n",
    "\\label{_auto5} \\tag{18}\n",
    "\\end{equation}\n",
    "$$"
   ]
  },
  {
   "cell_type": "markdown",
   "metadata": {},
   "source": [
    "where $\\tau_0\\equiv V_0/q$. Inserting this equation into equation ([17](#eq:ode:cstr2b)), we get:"
   ]
  },
  {
   "cell_type": "markdown",
   "metadata": {},
   "source": [
    "$$\n",
    "\\frac{dC_1(t)}{dt} = \\frac{1}{\\tau_1}\\left[C_{0,0}e^{-t/\\tau_0} - C_1(t)\\right],\\nonumber\n",
    "$$"
   ]
  },
  {
   "cell_type": "markdown",
   "metadata": {},
   "source": [
    "<!-- Equation labels as ordinary links -->\n",
    "<div id=\"eq:ode:cstr2c\"></div>\n",
    "\n",
    "$$\n",
    "\\begin{equation}  \n",
    "\\frac{d}{dt}\\left[e^{t/\\tau_2}C_1\\right]= \\frac{C_{0,0}}{\\tau_1}e^{-t(1/\\tau_0-1/\\tau_1)}\\label{eq:ode:cstr2c} \\tag{19},\n",
    "\\end{equation}\n",
    "$$"
   ]
  },
  {
   "cell_type": "markdown",
   "metadata": {},
   "source": [
    "<!-- Equation labels as ordinary links -->\n",
    "<div id=\"eq:ode:cstr2d\"></div>\n",
    "\n",
    "$$\n",
    "\\begin{equation}  \n",
    "C_1(t)=\\frac{C_{0,0}}{1-\\frac{\\tau_1}{\\tau_0}}\\left[e^{-t/\\tau_0}-e^{-t/\\tau_1}\\right],\\label{eq:ode:cstr2d} \\tag{20}\n",
    "\\end{equation}\n",
    "$$"
   ]
  },
  {
   "cell_type": "markdown",
   "metadata": {},
   "source": [
    "where $\\tau_1\\equiv V_1/q$.\n",
    "\n",
    "The methods we have considered so far are known as *explicit*, whenever we replace the solution in the right hand side of our algorithm with $y(t+\\Delta t)$\n",
    "or ($y_{n+1}$),\n",
    "the method is known as *implicit*. Implicit methods are always stable, meaning that we can take as large a time step that we would like, without\n",
    "getting oscillating solution. \n",
    "\n",
    "* Show that:"
   ]
  },
  {
   "cell_type": "markdown",
   "metadata": {},
   "source": [
    "$$\n",
    "{C_0}_{n+1}=\\frac{{C_0}_n + \\frac{\\Delta t}{\\tau_0}{C_\\text{in}}_{n+1}}{1+\\frac{\\Delta t}{\\tau_0}},\\nonumber\n",
    "$$"
   ]
  },
  {
   "cell_type": "markdown",
   "metadata": {},
   "source": [
    "<!-- Equation labels as ordinary links -->\n",
    "<div id=\"eq:ode:cstri1\"></div>\n",
    "\n",
    "$$\n",
    "\\begin{equation}  \n",
    "{C_2}_{n+1}=\\frac{{C_1}_n + \\frac{\\Delta t}{\\tau_1}{C_0}_{n+1}}{1+\\frac{\\Delta t}{\\tau_1}}.\\label{eq:ode:cstri1} \\tag{21}\n",
    "\\end{equation}\n",
    "$$"
   ]
  },
  {
   "cell_type": "markdown",
   "metadata": {},
   "source": [
    "* Finnish the implementation below"
   ]
  },
  {
   "cell_type": "code",
   "execution_count": 4,
   "metadata": {
    "collapsed": false
   },
   "outputs": [],
   "source": [
    "import matplotlib.pyplot as plt\n",
    "import numpy as np\n",
    "\n",
    "def fm(c_old,c_in,tau,h):\n",
    "    return ....\n",
    "\n",
    "def euler_step(c_old, c_in, tau, h):\n",
    "    c_next=[]\n",
    "    for i in range(len(c_old)):\n",
    "        if(i>0): c_in[i]=c_next[i-1] # c_new in next tank\n",
    "        c_next.append(fm(c_old[i],c_in[i],tau[i],h))\n",
    "    return c_next\n",
    "\n",
    "def ode_solv(c_into,c_init,t_final,tau,h):\n",
    "    f=[];t=[]\n",
    "    c_in  = c_into #freshwater into first tank\n",
    "    c_old = c_init #seawater present \n",
    "    ti=0.\n",
    "    while(ti <= t_final):\n",
    "        t.append(ti); f.append(c_old)\n",
    "        c_new = euler_step(c_old,c_in,tau,h)     \n",
    "        c_old = c_new\n",
    "        # put concentration of tank 0 into tank 1 etc.\n",
    "        # ...\n",
    "        ti   += h\n",
    "    return np.array(t),np.array(f)\n",
    "h = 0.01\n",
    "# initial values\n",
    "vol=1;q=1;c_into = [0,0]; c_init = [1,0]\n",
    "tau=[1,1e-3];t_final=10 # end of simulation \n",
    "t,f = ode_solv(c_into,c_init,t_final,tau,h)\n",
    "# rest of code is to make a figure\n",
    "\n",
    "f_an = [];t_an=np.arange(0,t_final,0.01)\n",
    "f_an.append(c_init[0]*np.exp(-t_an))\n",
    "f_an.append(c_init[0]*(1-tau[1]/tau[0])*(np.exp(-t_an/tau[0])-np.exp(-t_an/tau[1])))\n",
    "symb = ['-p','-v','-*','-s']\n",
    "fig = plt.figure(dpi=150)\n",
    "for i in range(0,len(c_init)):\n",
    "    legi = '$\\hat{C}_'+str(i)+'(\\\\tau)$'\n",
    "    plt.plot(t, f[:,i], '-', label=legi,lw=4)\n",
    "    plt.plot(t_an, f_an[i], '--', color='k')\n",
    "plt.plot(0,0 , '--', color='k',label='analytical')\n",
    "plt.legend(loc='upper right', ncol=1)\n",
    "#plt.ylim([0,50])\n",
    "plt.grid()\n",
    "plt.xlabel('Time')\n",
    "plt.ylabel('Concentration')\n",
    "plt.show()"
   ]
  },
  {
   "cell_type": "markdown",
   "metadata": {},
   "source": [
    "* Do you need more or less step to reach the same accuracy with the implicit method, compared to Eulers (explicit) method?\n",
    "\n",
    "<!-- --- end exercise --- -->\n",
    "\n",
    "\n",
    "\n",
    "\n",
    "<!-- --- begin exercise --- -->\n",
    "\n",
    "## Exercise 5: Truncation Error in Eulers Method\n",
    "\n",
    "We know that Eulers algorithm is accurate to second order. Our estimate of the new value, $y_1^*$  \n",
    "(where we have used a$\\,{}^*$ to indicate that we have used a step size of size $h$), should then be related to the true solution $y(t_1)$ in the following way:"
   ]
  },
  {
   "cell_type": "markdown",
   "metadata": {},
   "source": [
    "<!-- Equation labels as ordinary links -->\n",
    "<div id=\"eq:ode:aeb0\"></div>\n",
    "\n",
    "$$\n",
    "\\begin{equation}\n",
    "y^*_1=y(t_1)+ch^2.\\label{eq:ode:aeb0} \\tag{22}\n",
    "\\end{equation}\n",
    "$$"
   ]
  },
  {
   "cell_type": "markdown",
   "metadata": {},
   "source": [
    "The constant $c$ is unknown, but it can be found by taking two smaller steps of size $h/2$. If the steps are not too large, our new estimate\n",
    "of the value $y_1$ will be related to the true solution as:"
   ]
  },
  {
   "cell_type": "markdown",
   "metadata": {},
   "source": [
    "<!-- Equation labels as ordinary links -->\n",
    "<div id=\"eq:ode:aeb1\"></div>\n",
    "\n",
    "$$\n",
    "\\begin{equation}\n",
    "y_1=y(t_1)+2c\\left(\\frac{h}{2}\\right)^2.\\label{eq:ode:aeb1} \\tag{23}\n",
    "\\end{equation}\n",
    "$$"
   ]
  },
  {
   "cell_type": "markdown",
   "metadata": {},
   "source": [
    "In the following we will take a closer look at the adaptive Eulers algorithm and show that the \n",
    "constant $c$ is indeed the same in equation ([22](#eq:ode:aeb0)) and ([23](#eq:ode:aeb1)). \n",
    "The true solution $y(t)$, obeys the following equation:"
   ]
  },
  {
   "cell_type": "markdown",
   "metadata": {},
   "source": [
    "<!-- Equation labels as ordinary links -->\n",
    "<div id=\"eq:ode:ay\"></div>\n",
    "\n",
    "$$\n",
    "\\begin{equation}\n",
    "\\frac{dy}{dt}=f(y,t),\\label{eq:ode:ay} \\tag{24}\n",
    "\\end{equation}\n",
    "$$"
   ]
  },
  {
   "cell_type": "markdown",
   "metadata": {},
   "source": [
    "and Eulers method to get from $y_0$ to $y_1$ by taking one (large) step, $h$ is:"
   ]
  },
  {
   "cell_type": "markdown",
   "metadata": {},
   "source": [
    "<!-- Equation labels as ordinary links -->\n",
    "<div id=\"eq:ode:ae0\"></div>\n",
    "\n",
    "$$\n",
    "\\begin{equation}\n",
    "y^*_1=y_0+hf(y_0,t_0),\\label{eq:ode:ae0} \\tag{25}\n",
    "\\end{equation}\n",
    "$$"
   ]
  },
  {
   "cell_type": "markdown",
   "metadata": {},
   "source": [
    "We will also assume (for simplicity) that in our starting point $t=t_0$, the numerical solution, $y_0$, is equal to the true solution, $y(t_0)$, hence $y(t_0)=y_0$.\n",
    "\n",
    "\n",
    "**a)**\n",
    "Show that when we take one step of size $h$ from $t_0$ to $t_1=t_0+h$, $c=y^{\\prime\\prime}(t_0)/2$ in equation ([22](#eq:ode:aeb0)).\n",
    "\n",
    "\n",
    "<!-- --- begin answer of exercise --- -->\n",
    "**Answer.**\n",
    "The local error, is the difference between the numerical solution and the true solution:"
   ]
  },
  {
   "cell_type": "markdown",
   "metadata": {},
   "source": [
    "$$\n",
    "\\epsilon^*=y(t_0+h)-y_{1}^*=y(t_0)+y^{\\prime}(t_0)h+\\frac{1}{2}y^{\\prime\\prime}(t_0)h^2+\\mathcal{O}(h^3)\\nonumber\n",
    "$$"
   ]
  },
  {
   "cell_type": "markdown",
   "metadata": {},
   "source": [
    "<!-- Equation labels as ordinary links -->\n",
    "<div id=\"_auto6\"></div>\n",
    "\n",
    "$$\n",
    "\\begin{equation}  \n",
    "-\\left[y_0+hf(y_0,t_0+h)\\right],\n",
    "\\label{_auto6} \\tag{26}\n",
    "\\end{equation}\n",
    "$$"
   ]
  },
  {
   "cell_type": "markdown",
   "metadata": {},
   "source": [
    "where we have used Taylor expansion to expand the true solution around $t_0$, and equation ([25](#eq:ode:ae0)).\n",
    "Using equation ([24](#eq:ode:ay)) to replace $y^\\prime(t_0)$ with $f(y_0,t_0)$, we find:"
   ]
  },
  {
   "cell_type": "markdown",
   "metadata": {},
   "source": [
    "<!-- Equation labels as ordinary links -->\n",
    "<div id=\"_auto7\"></div>\n",
    "\n",
    "$$\n",
    "\\begin{equation}\n",
    "\\epsilon^*=y(t_0+h)-y_{1}^*=\\frac{1}{2}y^{\\prime\\prime}(t_0)h^2\\equiv ch^2,\n",
    "\\label{_auto7} \\tag{27}\n",
    "\\end{equation}\n",
    "$$"
   ]
  },
  {
   "cell_type": "markdown",
   "metadata": {},
   "source": [
    "hence $c=y^{\\prime\\prime}(t_0)/2$.\n",
    "\n",
    "<!-- --- end answer of exercise --- -->\n",
    "\n",
    "**b)**\n",
    "Show that when we take two steps of size $h/2$ from $t_0$ to $t_1=t_0+h$, Eulers algorithm is:"
   ]
  },
  {
   "cell_type": "markdown",
   "metadata": {},
   "source": [
    "<!-- Equation labels as ordinary links -->\n",
    "<div id=\"_auto8\"></div>\n",
    "\n",
    "$$\n",
    "\\begin{equation}\n",
    "y_{1}=y_{0}+\\frac{h}{2}f(y_0,t_0)+\\frac{h}{2}f(y_0+\\frac{h}{2}f(y_0,t_0),t_0+h/2).\n",
    "\\label{_auto8} \\tag{28}\n",
    "\\end{equation}\n",
    "$$"
   ]
  },
  {
   "cell_type": "markdown",
   "metadata": {},
   "source": [
    "<!-- --- begin answer of exercise --- -->\n",
    "**Answer.**"
   ]
  },
  {
   "cell_type": "markdown",
   "metadata": {},
   "source": [
    "<!-- Equation labels as ordinary links -->\n",
    "<div id=\"eq:ode:ae1b\"></div>\n",
    "\n",
    "$$\n",
    "\\begin{equation}\n",
    "y_{1/2}=y_0+\\frac{h}{2}f(y_0,t_0),\\label{eq:ode:ae1b} \\tag{29}\n",
    "\\end{equation}\n",
    "$$"
   ]
  },
  {
   "cell_type": "markdown",
   "metadata": {},
   "source": [
    "<!-- Equation labels as ordinary links -->\n",
    "<div id=\"eq:ode:ae2b\"></div>\n",
    "\n",
    "$$\n",
    "\\begin{equation}  \n",
    "y_{1}=y_{1/2}+\\frac{h}{2}f(y_{1/2},t_0+h/2),\\label{eq:ode:ae2b} \\tag{30}\n",
    "\\end{equation}\n",
    "$$"
   ]
  },
  {
   "cell_type": "markdown",
   "metadata": {},
   "source": [
    "<!-- Equation labels as ordinary links -->\n",
    "<div id=\"eq:ode:ae3b\"></div>\n",
    "\n",
    "$$\n",
    "\\begin{equation}  \n",
    "y_{1}=y_{0}+\\frac{h}{2}f(y_0,t_0)+\\frac{h}{2}f(y_0+\\frac{h}{2}f(y_0,t_0),t_0+h/2).\\label{eq:ode:ae3b} \\tag{31}\n",
    "\\end{equation}\n",
    "$$"
   ]
  },
  {
   "cell_type": "markdown",
   "metadata": {},
   "source": [
    "Note that we have inserted\n",
    "equation ([29](#eq:ode:ae1b)) into equation ([30](#eq:ode:ae2b)) to arrive at equation ([31](#eq:ode:ae3b)).\n",
    "\n",
    "<!-- --- end answer of exercise --- -->\n",
    "\n",
    "**c)**\n",
    "Find an expression for the local error when using two steps of size $h/2$, and show that the local error is: $\\frac{1}{2}ch^2$\n",
    "\n",
    "\n",
    "<!-- --- begin answer of exercise --- -->\n",
    "**Answer.**"
   ]
  },
  {
   "cell_type": "markdown",
   "metadata": {},
   "source": [
    "$$\n",
    "\\epsilon=y(t_0+h)-y_{1}=y(t_0)+y^{\\prime}(t_0)h+\\frac{1}{2}y^{\\prime\\prime}(t_0)h^2+\\mathcal{O}(h^3)\\nonumber\n",
    "$$"
   ]
  },
  {
   "cell_type": "markdown",
   "metadata": {},
   "source": [
    "<!-- Equation labels as ordinary links -->\n",
    "<div id=\"eq:ode:ay5b\"></div>\n",
    "\n",
    "$$\n",
    "\\begin{equation}  \n",
    "-\\left[y_{0}+\\frac{h}{2}f(y_0,t_0)+\\frac{h}{2}f(y_0+\\frac{h}{2}f(y_0,t_0),t_0+h/2)\\right].\\label{eq:ode:ay5b} \\tag{32}\n",
    "\\end{equation}\n",
    "$$"
   ]
  },
  {
   "cell_type": "markdown",
   "metadata": {},
   "source": [
    "This equation is slightly more complicated, due to the term involving $f$ inside the last parenthesis, we can use Taylor expansion to expand it about $(y_0,t_0)$:"
   ]
  },
  {
   "cell_type": "markdown",
   "metadata": {},
   "source": [
    "$$\n",
    "f(y_0+\\frac{h}{2}f(y_0,t_0),t_0+h/2)=f(y_0,t_0)\\nonumber\n",
    "$$"
   ]
  },
  {
   "cell_type": "markdown",
   "metadata": {},
   "source": [
    "<!-- Equation labels as ordinary links -->\n",
    "<div id=\"eq:ode:ay2b\"></div>\n",
    "\n",
    "$$\n",
    "\\begin{equation}  \n",
    "+\\frac{h}{2}\\left[f(y_0,t_0)\\left.\\frac{\\partial f}{\\partial y}\\right|_{y=y_0,t=t_0}\n",
    "+\\frac{h}{2}\\left.\\frac{\\partial f}{\\partial t}\\right|_{y=y_0,t=t_0}\\right]+\\mathcal{O}(h^2).\\label{eq:ode:ay2b} \\tag{33}\n",
    "\\end{equation}\n",
    "$$"
   ]
  },
  {
   "cell_type": "markdown",
   "metadata": {},
   "source": [
    "It turns out that this equation is related to $y^{\\prime\\prime}(t_0,y_0)$, which can be seen by differentiating equation ([24](#eq:ode:ay)):"
   ]
  },
  {
   "cell_type": "markdown",
   "metadata": {},
   "source": [
    "<!-- Equation labels as ordinary links -->\n",
    "<div id=\"eq:ode:ay3b\"></div>\n",
    "\n",
    "$$\n",
    "\\begin{equation}\n",
    "\\frac{d^2y}{dt^2}=\\frac{df(y,t)}{dt}=\\frac{\\partial f(y,t)}{\\partial y}\\frac{dy}{dt}+\\frac{\\partial f(y,t)}{\\partial t}\n",
    "=\\frac{\\partial f(y,t)}{\\partial y}f(y,t)+\\frac{\\partial f(y,t)}{\\partial t}.\\label{eq:ode:ay3b} \\tag{34}\n",
    "\\end{equation}\n",
    "$$"
   ]
  },
  {
   "cell_type": "markdown",
   "metadata": {},
   "source": [
    "Hence, equation ([33](#eq:ode:ay2b)) can be written:"
   ]
  },
  {
   "cell_type": "markdown",
   "metadata": {},
   "source": [
    "<!-- Equation labels as ordinary links -->\n",
    "<div id=\"eq:ode:ay4b\"></div>\n",
    "\n",
    "$$\n",
    "\\begin{equation}\n",
    "f(y_0+\\frac{h}{2}f(y_0,t_0),t_0+h/2)=f(y_0,t_0)+\\frac{h}{2}y^{\\prime\\prime}(t_0,y_0),\\label{eq:ode:ay4b} \\tag{35}\n",
    "\\end{equation}\n",
    "$$"
   ]
  },
  {
   "cell_type": "markdown",
   "metadata": {},
   "source": [
    "hence the truncation error in equation ([32](#eq:ode:ay5b)) can finally be written:"
   ]
  },
  {
   "cell_type": "markdown",
   "metadata": {},
   "source": [
    "<!-- Equation labels as ordinary links -->\n",
    "<div id=\"eq:ode:ae4b\"></div>\n",
    "\n",
    "$$\n",
    "\\begin{equation}\n",
    "\\epsilon=y(t_1)-y_{1}=\\frac{h^2}{4} y^{\\prime\\prime}(y_0,t_0)=\\frac{1}{2}ch^2,\\label{eq:ode:ae4b} \\tag{36}\n",
    "\\end{equation}\n",
    "$$"
   ]
  },
  {
   "cell_type": "markdown",
   "metadata": {},
   "source": [
    "<!-- --- end answer of exercise --- -->\n",
    "\n",
    "\n",
    "\n",
    "\n",
    "\n",
    "\n",
    "\n",
    "\n",
    "\n",
    "<!-- --- begin solution of exercise --- -->\n",
    "**Solution.**\n",
    "The local error, is the difference between the numerical solution and the true solution:"
   ]
  },
  {
   "cell_type": "markdown",
   "metadata": {},
   "source": [
    "$$\n",
    "\\epsilon^*=y(t_0+h)-y_{1}^*=y(t_0)+y^{\\prime}(t_0)h+\\frac{1}{2}y^{\\prime\\prime}(t_0)h^2+\\mathcal{O}(h^3)\\nonumber\n",
    "$$"
   ]
  },
  {
   "cell_type": "markdown",
   "metadata": {},
   "source": [
    "<!-- Equation labels as ordinary links -->\n",
    "<div id=\"_auto9\"></div>\n",
    "\n",
    "$$\n",
    "\\begin{equation}  \n",
    "-\\left[y_0+hf(y_0,t_0+h)\\right],\n",
    "\\label{_auto9} \\tag{37}\n",
    "\\end{equation}\n",
    "$$"
   ]
  },
  {
   "cell_type": "markdown",
   "metadata": {},
   "source": [
    "where we have used Taylor expansion to expand the true solution around $t_0$, and equation ([25](#eq:ode:ae0)).\n",
    "Using equation ([24](#eq:ode:ay)) to replace $y^\\prime(t_0)$ with $f(y_0,t_0)$, we find:"
   ]
  },
  {
   "cell_type": "markdown",
   "metadata": {},
   "source": [
    "<!-- Equation labels as ordinary links -->\n",
    "<div id=\"_auto10\"></div>\n",
    "\n",
    "$$\n",
    "\\begin{equation}\n",
    "\\epsilon^*=y(t_0+h)-y_{1}^*=\\frac{1}{2}y^{\\prime\\prime}(t_0)h^2\\equiv ch^2,\n",
    "\\label{_auto10} \\tag{38}\n",
    "\\end{equation}\n",
    "$$"
   ]
  },
  {
   "cell_type": "markdown",
   "metadata": {},
   "source": [
    "where we have ignored terms of higher order than $h^2$, and defined $c$ as $c=y^{\\prime\\prime}(t_0)/2$. Next we take two steps of size $h/2$ to\n",
    "reach $y_1$:"
   ]
  },
  {
   "cell_type": "markdown",
   "metadata": {},
   "source": [
    "<!-- Equation labels as ordinary links -->\n",
    "<div id=\"eq:ode:ae1\"></div>\n",
    "\n",
    "$$\n",
    "\\begin{equation}\n",
    "y_{1/2}=y_0+\\frac{h}{2}f(y_0,t_0),\\label{eq:ode:ae1} \\tag{39}\n",
    "\\end{equation}\n",
    "$$"
   ]
  },
  {
   "cell_type": "markdown",
   "metadata": {},
   "source": [
    "<!-- Equation labels as ordinary links -->\n",
    "<div id=\"eq:ode:ae2\"></div>\n",
    "\n",
    "$$\n",
    "\\begin{equation}  \n",
    "y_{1}=y_{1/2}+\\frac{h}{2}f(y_{1/2},t_0+h/2),\\label{eq:ode:ae2} \\tag{40}\n",
    "\\end{equation}\n",
    "$$"
   ]
  },
  {
   "cell_type": "markdown",
   "metadata": {},
   "source": [
    "<!-- Equation labels as ordinary links -->\n",
    "<div id=\"eq:ode:ae3\"></div>\n",
    "\n",
    "$$\n",
    "\\begin{equation}  \n",
    "y_{1}=y_{0}+\\frac{h}{2}f(y_0,t_0)+\\frac{h}{2}f(y_0+\\frac{h}{2}f(y_0,t_0),t_0+h/2).\\label{eq:ode:ae3} \\tag{41}\n",
    "\\end{equation}\n",
    "$$"
   ]
  },
  {
   "cell_type": "markdown",
   "metadata": {},
   "source": [
    "Note that we have inserted\n",
    "equation ([39](#eq:ode:ae1)) into equation ([40](#eq:ode:ae2)) to arrive at equation ([41](#eq:ode:ae3)). The truncation error in this case is, as before:"
   ]
  },
  {
   "cell_type": "markdown",
   "metadata": {},
   "source": [
    "$$\n",
    "\\epsilon=y(t_0+h)-y_{1}=y(t_0)+y^{\\prime}(t_0)h+\\frac{1}{2}y^{\\prime\\prime}(t_0)h^2+\\mathcal{O}(h^3)\\nonumber\n",
    "$$"
   ]
  },
  {
   "cell_type": "markdown",
   "metadata": {},
   "source": [
    "<!-- Equation labels as ordinary links -->\n",
    "<div id=\"eq:ode:ay5\"></div>\n",
    "\n",
    "$$\n",
    "\\begin{equation}  \n",
    "-\\left[y_{0}+\\frac{h}{2}f(y_0,t_0)+\\frac{h}{2}f(y_0+\\frac{h}{2}f(y_0,t_0),t_0+h/2)\\right].\\label{eq:ode:ay5} \\tag{42}\n",
    "\\end{equation}\n",
    "$$"
   ]
  },
  {
   "cell_type": "markdown",
   "metadata": {},
   "source": [
    "This equation is slightly more complicated, due to the term involving $f$ inside the last parenthesis, we can use Taylor expansion to expand it about $(y_0,t_0)$:"
   ]
  },
  {
   "cell_type": "markdown",
   "metadata": {},
   "source": [
    "$$\n",
    "f(y_0+\\frac{h}{2}f(y_0,t_0),t_0+h/2)=f(y_0,t_0)\\nonumber\n",
    "$$"
   ]
  },
  {
   "cell_type": "markdown",
   "metadata": {},
   "source": [
    "<!-- Equation labels as ordinary links -->\n",
    "<div id=\"eq:ode:ay2\"></div>\n",
    "\n",
    "$$\n",
    "\\begin{equation}  \n",
    "+\\frac{h}{2}\\left[f(y_0,t_0)\\left.\\frac{\\partial f}{\\partial y}\\right|_{y=y_0,t=t_0}\n",
    "+\\left.\\frac{\\partial f}{\\partial t}\\right|_{y=y_0,t=t_0}\\right]+\\mathcal{O}(h^2).\\label{eq:ode:ay2} \\tag{43}\n",
    "\\end{equation}\n",
    "$$"
   ]
  },
  {
   "cell_type": "markdown",
   "metadata": {},
   "source": [
    "It turns out that this equation is related to $y^{\\prime\\prime}(t_0,y_0)$, which can be seen by differentiating equation ([24](#eq:ode:ay)):"
   ]
  },
  {
   "cell_type": "markdown",
   "metadata": {},
   "source": [
    "<!-- Equation labels as ordinary links -->\n",
    "<div id=\"eq:ode:ay3\"></div>\n",
    "\n",
    "$$\n",
    "\\begin{equation}\n",
    "\\frac{d^2y}{dt^2}=\\frac{df(y,t)}{dt}=\\frac{\\partial f(y,t)}{\\partial y}\\frac{dy}{dt}+\\frac{\\partial f(y,t)}{\\partial t}\n",
    "=\\frac{\\partial f(y,t)}{\\partial y}f(y,t)+\\frac{\\partial f(y,t)}{\\partial t}.\\label{eq:ode:ay3} \\tag{44}\n",
    "\\end{equation}\n",
    "$$"
   ]
  },
  {
   "cell_type": "markdown",
   "metadata": {},
   "source": [
    "Hence, equation ([43](#eq:ode:ay2)) can be written:"
   ]
  },
  {
   "cell_type": "markdown",
   "metadata": {},
   "source": [
    "<!-- Equation labels as ordinary links -->\n",
    "<div id=\"eq:ode:ay4\"></div>\n",
    "\n",
    "$$\n",
    "\\begin{equation}\n",
    "f(y_0+\\frac{h}{2}f(y_0,t_0),t_0+h/2)=f(y_0,t_0)+\\frac{h}{2}y^{\\prime\\prime}(t_0,y_0),\\label{eq:ode:ay4} \\tag{45}\n",
    "\\end{equation}\n",
    "$$"
   ]
  },
  {
   "cell_type": "markdown",
   "metadata": {},
   "source": [
    "hence the truncation error in equation ([42](#eq:ode:ay5)) can finally be written:"
   ]
  },
  {
   "cell_type": "markdown",
   "metadata": {},
   "source": [
    "<!-- Equation labels as ordinary links -->\n",
    "<div id=\"eq:ode:ae4\"></div>\n",
    "\n",
    "$$\n",
    "\\begin{equation}\n",
    "\\epsilon=y(t_1)-y_{1}=\\frac{h^2}{4} y^{\\prime\\prime}(y_0,t_0)=\\frac{1}{2}ch^2,\\label{eq:ode:ae4} \\tag{46}\n",
    "\\end{equation}\n",
    "$$"
   ]
  },
  {
   "cell_type": "markdown",
   "metadata": {},
   "source": [
    "<!-- --- end solution of exercise --- -->\n",
    "\n",
    "<!-- --- end exercise --- -->\n",
    "\n",
    "\n",
    "## References\n",
    "\n",
    "1. <div id=\"hiorth\"></div> **A. Hiorth**. \n",
    "    *Computational Engineering and Modeling*,\n",
    "    https://github.com/ahiorth/CompEngineering,\n",
    "    2019."
   ]
  }
 ],
 "metadata": {},
 "nbformat": 4,
 "nbformat_minor": 4
}
